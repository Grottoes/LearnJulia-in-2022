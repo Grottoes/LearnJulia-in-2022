{
 "cells": [
  {
   "cell_type": "markdown",
   "id": "5574c1df",
   "metadata": {},
   "source": [
    "# Коллекции данных\n",
    "\n",
    "## 1. Диапазон чисел (range)\n",
    "\n",
    "Конструирует специализированный массив равно отстоящих числовых элементов\n",
    "\n",
    "### Вариант с шагом 1 по умолчанию\n",
    "\n",
    "```\n",
    "j = start:stop\n",
    "```\n",
    "или \n",
    "```\n",
    "j = range(start, stop)\n",
    "j = range(start; stop)\n",
    "```"
   ]
  },
  {
   "cell_type": "code",
   "execution_count": 9,
   "id": "a090ff88",
   "metadata": {},
   "outputs": [
    {
     "data": {
      "text/plain": [
       "-5:5"
      ]
     },
     "execution_count": 9,
     "metadata": {},
     "output_type": "execute_result"
    }
   ],
   "source": [
    "j = -5:5"
   ]
  },
  {
   "cell_type": "code",
   "execution_count": 10,
   "id": "2495b1c6",
   "metadata": {},
   "outputs": [
    {
     "data": {
      "text/plain": [
       "-5:5"
      ]
     },
     "execution_count": 10,
     "metadata": {},
     "output_type": "execute_result"
    }
   ],
   "source": [
    "k = range(-5, stop=5)"
   ]
  },
  {
   "cell_type": "code",
   "execution_count": 11,
   "id": "67321335",
   "metadata": {},
   "outputs": [
    {
     "data": {
      "text/plain": [
       "true"
      ]
     },
     "execution_count": 11,
     "metadata": {},
     "output_type": "execute_result"
    }
   ],
   "source": [
    "j == k"
   ]
  },
  {
   "cell_type": "markdown",
   "id": "27311262",
   "metadata": {},
   "source": [
    "обращение по индексу"
   ]
  },
  {
   "cell_type": "code",
   "execution_count": 12,
   "id": "538d9ac5",
   "metadata": {},
   "outputs": [
    {
     "data": {
      "text/plain": [
       "-2"
      ]
     },
     "execution_count": 12,
     "metadata": {},
     "output_type": "execute_result"
    }
   ],
   "source": [
    "j[4]"
   ]
  },
  {
   "cell_type": "markdown",
   "id": "7a7e66cd",
   "metadata": {},
   "source": [
    "проверка наличия элемента в коллекции"
   ]
  },
  {
   "cell_type": "code",
   "execution_count": 13,
   "id": "8f18690b",
   "metadata": {},
   "outputs": [
    {
     "data": {
      "text/plain": [
       "true"
      ]
     },
     "execution_count": 13,
     "metadata": {},
     "output_type": "execute_result"
    }
   ],
   "source": [
    "2 ∈ j"
   ]
  },
  {
   "cell_type": "markdown",
   "id": "c2758f86",
   "metadata": {},
   "source": [
    "### Вариант с заданным шагом\n",
    "```\n",
    "j = start:step:stop\n",
    "```\n",
    "или\n",
    "```\n",
    "j = range(start, stop; step)\n",
    "```"
   ]
  },
  {
   "cell_type": "code",
   "execution_count": 14,
   "id": "4dffb264",
   "metadata": {},
   "outputs": [
    {
     "data": {
      "text/plain": [
       "-5.0:0.2:5.0"
      ]
     },
     "execution_count": 14,
     "metadata": {},
     "output_type": "execute_result"
    }
   ],
   "source": [
    "j = -5:0.2:5"
   ]
  },
  {
   "cell_type": "code",
   "execution_count": 15,
   "id": "6c4f884f",
   "metadata": {},
   "outputs": [
    {
     "data": {
      "text/plain": [
       "true"
      ]
     },
     "execution_count": 15,
     "metadata": {},
     "output_type": "execute_result"
    }
   ],
   "source": [
    "k = range(-5, 5, step = 0.2)\n",
    "k == j"
   ]
  },
  {
   "cell_type": "markdown",
   "id": "bf74b1e3",
   "metadata": {},
   "source": [
    "### Вариант с заданным числом элементов\n",
    "\n",
    "```\n",
    "j = range(start; length)\n",
    "j = range(start, stop, length)\n",
    "j = range(start, stop; length)\n",
    "j = range(start; stop, length)\n",
    "j = range(start; length, step)\n",
    "```"
   ]
  },
  {
   "cell_type": "code",
   "execution_count": 16,
   "id": "d32c1138",
   "metadata": {},
   "outputs": [
    {
     "data": {
      "text/plain": [
       "1:2:17"
      ]
     },
     "execution_count": 16,
     "metadata": {},
     "output_type": "execute_result"
    }
   ],
   "source": [
    "j = range(1, length=9, step=2)"
   ]
  },
  {
   "cell_type": "markdown",
   "id": "ac52b969",
   "metadata": {},
   "source": [
    "### Часто используемые методы с `range`:\n",
    "\n",
    "```\n",
    "length(j) - вернуть число элементов \n",
    "collect(j) - конвертировать в массив\n",
    "```"
   ]
  },
  {
   "cell_type": "code",
   "execution_count": 17,
   "id": "dbeefea8",
   "metadata": {},
   "outputs": [
    {
     "data": {
      "text/plain": [
       "3.0:0.3:6.0"
      ]
     },
     "execution_count": 17,
     "metadata": {},
     "output_type": "execute_result"
    }
   ],
   "source": [
    "j = 3:0.3:6"
   ]
  },
  {
   "cell_type": "code",
   "execution_count": 18,
   "id": "0e762b4e",
   "metadata": {},
   "outputs": [
    {
     "data": {
      "text/plain": [
       "11"
      ]
     },
     "execution_count": 18,
     "metadata": {},
     "output_type": "execute_result"
    }
   ],
   "source": [
    "length(j)"
   ]
  },
  {
   "cell_type": "code",
   "execution_count": 19,
   "id": "16b8e9b3",
   "metadata": {},
   "outputs": [
    {
     "data": {
      "text/plain": [
       "11-element Vector{Float64}:\n",
       " 3.0\n",
       " 3.3\n",
       " 3.6\n",
       " 3.9\n",
       " 4.2\n",
       " 4.5\n",
       " 4.8\n",
       " 5.1\n",
       " 5.4\n",
       " 5.7\n",
       " 6.0"
      ]
     },
     "execution_count": 19,
     "metadata": {},
     "output_type": "execute_result"
    }
   ],
   "source": [
    "collect(j)"
   ]
  },
  {
   "cell_type": "markdown",
   "id": "de5af4eb",
   "metadata": {},
   "source": [
    "### Области применения\n",
    "- циклы\n",
    "- слайсы\n",
    "- сетки (для графики)\n",
    "- ..."
   ]
  },
  {
   "cell_type": "code",
   "execution_count": 20,
   "id": "4e0072ec",
   "metadata": {},
   "outputs": [
    {
     "name": "stdout",
     "output_type": "stream",
     "text": [
      "1\n",
      "2\n",
      "3\n",
      "4\n",
      "5\n"
     ]
    }
   ],
   "source": [
    "for i in 1:5            # или for i=1:5 или for i ∈ 1:5\n",
    "    println(i)\n",
    "end"
   ]
  },
  {
   "cell_type": "code",
   "execution_count": 21,
   "id": "a06dd47c",
   "metadata": {},
   "outputs": [
    {
     "data": {
      "text/plain": [
       "3-element Vector{Int64}:\n",
       " 3\n",
       " 4\n",
       " 5"
      ]
     },
     "execution_count": 21,
     "metadata": {},
     "output_type": "execute_result"
    }
   ],
   "source": [
    "A = collect(1:10)       \n",
    "A[3:5]"
   ]
  },
  {
   "cell_type": "code",
   "execution_count": 22,
   "id": "2b2cba85",
   "metadata": {},
   "outputs": [
    {
     "data": {
      "text/plain": [
       "10-element Vector{Int64}:\n",
       "  1\n",
       "  2\n",
       "  3\n",
       "  4\n",
       "  5\n",
       "  6\n",
       "  7\n",
       "  8\n",
       "  9\n",
       " 10"
      ]
     },
     "execution_count": 22,
     "metadata": {},
     "output_type": "execute_result"
    }
   ],
   "source": [
    "A"
   ]
  },
  {
   "cell_type": "markdown",
   "id": "301ff2f6",
   "metadata": {},
   "source": [
    "# 2. Массивы\n",
    "\n",
    "Массивы - это упорядоченная коллекция элементов. \n"
   ]
  },
  {
   "cell_type": "markdown",
   "id": "55bcead9",
   "metadata": {},
   "source": [
    "## 2.1. Создание массивов\n",
    "\n",
    "Все, что заключается в [...] - это массив\n",
    "\n",
    "### Одномерный массив"
   ]
  },
  {
   "cell_type": "code",
   "execution_count": 23,
   "id": "a974ad28",
   "metadata": {},
   "outputs": [
    {
     "data": {
      "text/plain": [
       "3-element Vector{Int64}:\n",
       " 1\n",
       " 2\n",
       " 3"
      ]
     },
     "execution_count": 23,
     "metadata": {},
     "output_type": "execute_result"
    }
   ],
   "source": [
    "A = [1, 2, 3]   # массив целых чисел"
   ]
  },
  {
   "cell_type": "code",
   "execution_count": 24,
   "id": "b17c1951",
   "metadata": {},
   "outputs": [
    {
     "data": {
      "text/plain": [
       "4-element Vector{Any}:\n",
       "  2\n",
       "   'W': ASCII/Unicode U+0057 (category Lu: Letter, uppercase)\n",
       " 1//5\n",
       "   \"Julia\""
      ]
     },
     "execution_count": 24,
     "metadata": {},
     "output_type": "execute_result"
    }
   ],
   "source": [
    "A = [2, 'W', 1//5, \"Julia\"]  # Элементы массива могут быть любого типа"
   ]
  },
  {
   "cell_type": "code",
   "execution_count": 25,
   "id": "98283db9",
   "metadata": {},
   "outputs": [
    {
     "data": {
      "text/plain": [
       "3-element Vector{Vector}:\n",
       " [1, 2, 3, 4, 5]\n",
       " Rational{Int64}[3//4, 4//5]\n",
       " [\"Julia\", \"Romeo\"]"
      ]
     },
     "execution_count": 25,
     "metadata": {},
     "output_type": "execute_result"
    }
   ],
   "source": [
    "A = [ [1, 2, 3, 4, 5], [3//4, 4//5], [\"Julia\", \"Romeo\"] ] # в том числе массивами"
   ]
  },
  {
   "cell_type": "code",
   "execution_count": 26,
   "id": "5e397a42",
   "metadata": {},
   "outputs": [
    {
     "data": {
      "text/plain": [
       "3-element Vector{Function}:\n",
       " sin (generic function with 13 methods)\n",
       " cos (generic function with 13 methods)\n",
       " tan (generic function with 12 methods)"
      ]
     },
     "execution_count": 26,
     "metadata": {},
     "output_type": "execute_result"
    }
   ],
   "source": [
    "A = [sin, cos, tan]  # и функциями"
   ]
  },
  {
   "cell_type": "markdown",
   "id": "7956bd4f",
   "metadata": {},
   "source": [
    "Чтобы создать массив элементов конкретного типа, его следует указать перед [ ]"
   ]
  },
  {
   "cell_type": "code",
   "execution_count": 27,
   "id": "2e90c7de",
   "metadata": {},
   "outputs": [
    {
     "data": {
      "text/plain": [
       "5-element Vector{Float64}:\n",
       "  1.0\n",
       "  2.0\n",
       "  3.0\n",
       "  0.8\n",
       " 12.566370614359172"
      ]
     },
     "execution_count": 27,
     "metadata": {},
     "output_type": "execute_result"
    }
   ],
   "source": [
    "A = Float64[1, 2, 3, 4//5, 4pi]  # массив вещественных чисел"
   ]
  },
  {
   "cell_type": "code",
   "execution_count": 28,
   "id": "50eb2bfe",
   "metadata": {},
   "outputs": [
    {
     "data": {
      "text/plain": [
       "String[]"
      ]
     },
     "execution_count": 28,
     "metadata": {},
     "output_type": "execute_result"
    }
   ],
   "source": [
    "A = String[]   # пустой массив строковых элементов"
   ]
  },
  {
   "cell_type": "markdown",
   "id": "5bd377a6",
   "metadata": {},
   "source": [
    "### Двухмерный массив\n",
    "Если опустить запятые между элементами, будет создан двухмерный массив"
   ]
  },
  {
   "cell_type": "code",
   "execution_count": 29,
   "id": "bbf6ba28",
   "metadata": {},
   "outputs": [
    {
     "data": {
      "text/plain": [
       "1×6 Matrix{Int64}:\n",
       " 1  2  3  4  5  6"
      ]
     },
     "execution_count": 29,
     "metadata": {},
     "output_type": "execute_result"
    }
   ],
   "source": [
    "A = [1 2 3 4 5 6]    # Двухмерный массив 1 х 6"
   ]
  },
  {
   "cell_type": "code",
   "execution_count": 30,
   "id": "e81401cc",
   "metadata": {},
   "outputs": [
    {
     "data": {
      "text/plain": [
       "3×3 Matrix{Int64}:\n",
       " 1  2  3\n",
       " 4  5  6\n",
       " 7  8  9"
      ]
     },
     "execution_count": 30,
     "metadata": {},
     "output_type": "execute_result"
    }
   ],
   "source": [
    "A = [1 2 3; 4 5 6; 7 8 9]  # Двухмерный массив 2 х 3"
   ]
  },
  {
   "cell_type": "markdown",
   "id": "f2208231",
   "metadata": {},
   "source": [
    "### Многомерный массив\n"
   ]
  },
  {
   "cell_type": "code",
   "execution_count": 31,
   "id": "510e18d6",
   "metadata": {},
   "outputs": [
    {
     "data": {
      "text/plain": [
       "2×3×2 Array{Int64, 3}:\n",
       "[:, :, 1] =\n",
       " 1  2  3\n",
       " 2  3  4\n",
       "\n",
       "[:, :, 2] =\n",
       " 3  4  5\n",
       " 5  6  7"
      ]
     },
     "execution_count": 31,
     "metadata": {},
     "output_type": "execute_result"
    }
   ],
   "source": [
    "A = [1 2 3         # Трехмерный массив 2 х 3 х 2\n",
    "     2 3 4;;;      # количество \";\" в разделителе осей определяет размерность\n",
    "     3 4 5\n",
    "     5 6 7]"
   ]
  },
  {
   "cell_type": "code",
   "execution_count": 32,
   "id": "1912140a",
   "metadata": {},
   "outputs": [
    {
     "data": {
      "text/plain": [
       "2×3×2 Array{Int64, 3}:\n",
       "[:, :, 1] =\n",
       " 1  2  3\n",
       " 2  3  4\n",
       "\n",
       "[:, :, 2] =\n",
       " 3  4  5\n",
       " 6  6  7"
      ]
     },
     "execution_count": 32,
     "metadata": {},
     "output_type": "execute_result"
    }
   ],
   "source": [
    "A = [1 2 3; 2 3 4;;; 3 4 5; 6 6 7]"
   ]
  },
  {
   "cell_type": "markdown",
   "id": "9d69f57c",
   "metadata": {},
   "source": [
    "### Использование генераторов для создания массивов\n"
   ]
  },
  {
   "cell_type": "code",
   "execution_count": 33,
   "id": "84b00180",
   "metadata": {},
   "outputs": [
    {
     "data": {
      "text/plain": [
       "5-element Vector{Int64}:\n",
       " 1\n",
       " 2\n",
       " 3\n",
       " 4\n",
       " 5"
      ]
     },
     "execution_count": 33,
     "metadata": {},
     "output_type": "execute_result"
    }
   ],
   "source": [
    "A = [x for x in 1:5]    # collect(1:5)"
   ]
  },
  {
   "cell_type": "code",
   "execution_count": 34,
   "id": "fd45df1c",
   "metadata": {},
   "outputs": [
    {
     "data": {
      "text/plain": [
       "11-element Vector{Float64}:\n",
       " 5.99903913064743e-32\n",
       " 0.34549150281252655\n",
       " 0.9045084971874738\n",
       " 0.9045084971874736\n",
       " 0.34549150281252616\n",
       " 1.4997597826618576e-32\n",
       " 0.34549150281252644\n",
       " 0.9045084971874738\n",
       " 0.9045084971874736\n",
       " 0.3454915028125263\n",
       " 0.0"
      ]
     },
     "execution_count": 34,
     "metadata": {},
     "output_type": "execute_result"
    }
   ],
   "source": [
    "A = [abs2(sin(x)) for x = -2pi:pi/5:0]"
   ]
  },
  {
   "cell_type": "code",
   "execution_count": 35,
   "id": "b5138e6e",
   "metadata": {},
   "outputs": [
    {
     "data": {
      "text/plain": [
       "6-element Vector{Int64}:\n",
       "  4\n",
       "  9\n",
       " 16\n",
       " 36\n",
       " 49\n",
       " 64"
      ]
     },
     "execution_count": 35,
     "metadata": {},
     "output_type": "execute_result"
    }
   ],
   "source": [
    "A = [x^2 for x in 2:8 if x!=5]"
   ]
  },
  {
   "cell_type": "markdown",
   "id": "3d5a5784",
   "metadata": {},
   "source": [
    "### Создание массивов с заполнением\n"
   ]
  },
  {
   "cell_type": "code",
   "execution_count": 36,
   "id": "49214cc6",
   "metadata": {},
   "outputs": [
    {
     "data": {
      "text/plain": [
       "3-element Vector{Float64}:\n",
       " 0.0\n",
       " 0.0\n",
       " 0.0"
      ]
     },
     "execution_count": 36,
     "metadata": {},
     "output_type": "execute_result"
    }
   ],
   "source": [
    "A = zeros(3)   # Создать одномерный массив из трех нулей "
   ]
  },
  {
   "cell_type": "code",
   "execution_count": 37,
   "id": "ea12ae5f",
   "metadata": {},
   "outputs": [
    {
     "data": {
      "text/plain": [
       "3×3 Matrix{Int64}:\n",
       " 1  1  1\n",
       " 1  1  1\n",
       " 1  1  1"
      ]
     },
     "execution_count": 37,
     "metadata": {},
     "output_type": "execute_result"
    }
   ],
   "source": [
    "A = ones(Int64, 3,3)   # Создать двухмерный массив 3x3 заполненный единицами"
   ]
  },
  {
   "cell_type": "code",
   "execution_count": 38,
   "id": "aecfa267",
   "metadata": {},
   "outputs": [
    {
     "data": {
      "text/plain": [
       "3×2 BitMatrix:\n",
       " 1  1\n",
       " 1  1\n",
       " 1  1"
      ]
     },
     "execution_count": 38,
     "metadata": {},
     "output_type": "execute_result"
    }
   ],
   "source": [
    "A = trues(3,2)  # Создать двухмерный массив 3x2, заполненный булевой истинной"
   ]
  },
  {
   "cell_type": "code",
   "execution_count": 39,
   "id": "0a054492",
   "metadata": {},
   "outputs": [
    {
     "data": {
      "text/plain": [
       "3-element Vector{Float64}:\n",
       " 0.931943379561659\n",
       " 0.5893300349012093\n",
       " 0.9969516320796115"
      ]
     },
     "execution_count": 39,
     "metadata": {},
     "output_type": "execute_result"
    }
   ],
   "source": [
    "A = rand(3)   # одномерный массив, заполненный равномерно распределенными случайными числами от 0 до 1"
   ]
  },
  {
   "cell_type": "code",
   "execution_count": 40,
   "id": "35fe55a9",
   "metadata": {},
   "outputs": [
    {
     "data": {
      "text/plain": [
       "2×3 Matrix{Float64}:\n",
       " -0.189669  -0.0627219  -0.179814\n",
       "  1.46328   -0.484587   -0.261734"
      ]
     },
     "execution_count": 40,
     "metadata": {},
     "output_type": "execute_result"
    }
   ],
   "source": [
    "A = randn(2,3) # двухмерный массив со случайными числами, распределенными по стандартному нормальному закону N(0,1)"
   ]
  },
  {
   "cell_type": "code",
   "execution_count": 41,
   "id": "b335e05f",
   "metadata": {},
   "outputs": [
    {
     "data": {
      "text/plain": [
       "2×3 Matrix{String}:\n",
       " \"bla\"  \"bla\"  \"bla\"\n",
       " \"bla\"  \"bla\"  \"bla\""
      ]
     },
     "execution_count": 41,
     "metadata": {},
     "output_type": "execute_result"
    }
   ],
   "source": [
    "A = fill(\"bla\", 2, 3)   # Создать массив 2 х 3, заполнив его \"bla\""
   ]
  },
  {
   "cell_type": "code",
   "execution_count": 43,
   "id": "7d660433",
   "metadata": {},
   "outputs": [
    {
     "data": {
      "text/plain": [
       "2×3 Matrix{String}:\n",
       " \"ахаха\"  \"ахаха\"  \"ахаха\"\n",
       " \"ахаха\"  \"ахаха\"  \"ахаха\""
      ]
     },
     "execution_count": 43,
     "metadata": {},
     "output_type": "execute_result"
    }
   ],
   "source": [
    "fill!(A,\"ахаха\")        # заполнить массив новым значением (! указывает, что массив A будет изменен)"
   ]
  },
  {
   "cell_type": "code",
   "execution_count": 44,
   "id": "735775da",
   "metadata": {},
   "outputs": [
    {
     "data": {
      "text/plain": [
       "2×4 Matrix{Float64}:\n",
       " 0.350695  0.233176  0.793078  0.011214\n",
       " 0.31084   0.646415  0.958026  0.962568"
      ]
     },
     "execution_count": 44,
     "metadata": {},
     "output_type": "execute_result"
    }
   ],
   "source": [
    "using Random\n",
    "\n",
    "A = rand(2,4)"
   ]
  },
  {
   "cell_type": "code",
   "execution_count": 45,
   "id": "0bf1bc49",
   "metadata": {},
   "outputs": [
    {
     "data": {
      "text/plain": [
       "2×4 Matrix{Float64}:\n",
       " 0.513826  0.275497   0.179022  0.693325\n",
       " 0.576827  0.0783048  0.626658  0.991907"
      ]
     },
     "execution_count": 45,
     "metadata": {},
     "output_type": "execute_result"
    }
   ],
   "source": [
    "rand!(A)"
   ]
  },
  {
   "cell_type": "markdown",
   "id": "e909e736",
   "metadata": {},
   "source": [
    "### Создание массивов размножением\n"
   ]
  },
  {
   "cell_type": "code",
   "execution_count": 46,
   "id": "686c0047",
   "metadata": {},
   "outputs": [
    {
     "data": {
      "text/plain": [
       "9-element Vector{Int64}:\n",
       "   0\n",
       "  50\n",
       " 100\n",
       "   0\n",
       "  50\n",
       " 100\n",
       "   0\n",
       "  50\n",
       " 100"
      ]
     },
     "execution_count": 46,
     "metadata": {},
     "output_type": "execute_result"
    }
   ],
   "source": [
    "a = [0, 50, 100]     \n",
    "A = repeat(a, 3)     # создать массив A из массива a, повторив его три раза вдоль первого измерения"
   ]
  },
  {
   "cell_type": "code",
   "execution_count": 47,
   "id": "9b891d74",
   "metadata": {},
   "outputs": [
    {
     "data": {
      "text/plain": [
       "4×6 Matrix{Int64}:\n",
       "  0   50   0   50   0   50\n",
       " 50  100  50  100  50  100\n",
       "  0   50   0   50   0   50\n",
       " 50  100  50  100  50  100"
      ]
     },
     "execution_count": 47,
     "metadata": {},
     "output_type": "execute_result"
    }
   ],
   "source": [
    "a = [0 50 \n",
    "    50 100]\n",
    "A = repeat(a, 2, 3)   # создать массив A из a, повторив его 2 раза вдоль 1го измерения и 3 раза вдоль 2й измерения"
   ]
  },
  {
   "cell_type": "markdown",
   "id": "73b34549",
   "metadata": {},
   "source": [
    "### Конструктор массивов\n",
    "\n",
    "Часто эффективно предварительно выделить память под массив, а затем заполнять его по мере вычислений \n",
    "\n",
    "`Array  { T, dim } (undef, s1, s2, ... ) \n",
    "  |      |   |              |   |         \n",
    "  |      |   |              |   ∟—  Число элементов вдоль второго измерения\n",
    "  |      |   |              ∟—————  Число элементов вдоль первого измерения\n",
    "  |      |   ∟—————————————  Размерность массива \n",
    "  |      ∟—————————————————  Тип элементов массива \n",
    "  ∟————————————————————————  Ключевое слово`"
   ]
  },
  {
   "cell_type": "code",
   "execution_count": 48,
   "id": "b70ed448",
   "metadata": {},
   "outputs": [
    {
     "data": {
      "text/plain": [
       "2×2×2 Array{Int64, 3}:\n",
       "[:, :, 1] =\n",
       " 4503599628423168     4521192081854464\n",
       " 4521260801331216  1157425104503705600\n",
       "\n",
       "[:, :, 2] =\n",
       " 1152939096792891408  1157442696420266000\n",
       "      17661175005200                    0"
      ]
     },
     "execution_count": 48,
     "metadata": {},
     "output_type": "execute_result"
    }
   ],
   "source": [
    "A = Array{Int64,3}(undef,2,2,2)    # Создать неинициализированный 2 x 2 x 2 массив целых"
   ]
  },
  {
   "cell_type": "code",
   "execution_count": 49,
   "id": "01c8b24f",
   "metadata": {},
   "outputs": [
    {
     "data": {
      "text/plain": [
       "2×3 Matrix{String}:\n",
       " #undef  #undef  #undef\n",
       " #undef  #undef  #undef"
      ]
     },
     "execution_count": 49,
     "metadata": {},
     "output_type": "execute_result"
    }
   ],
   "source": [
    "A = Array{String,2}(undef,2,3)  # Создать неинициализорованный 2х3 массив строк"
   ]
  },
  {
   "cell_type": "code",
   "execution_count": 50,
   "id": "87c9fc95",
   "metadata": {},
   "outputs": [
    {
     "data": {
      "text/plain": [
       "2×2 Matrix{Matrix{String}}:\n",
       " #undef  #undef\n",
       " #undef  #undef"
      ]
     },
     "execution_count": 50,
     "metadata": {},
     "output_type": "execute_result"
    }
   ],
   "source": [
    "A = Array{Array{String,2},2}(undef,2,2)  # Создать 2х2 массив 2-мерных массивов строк"
   ]
  },
  {
   "cell_type": "code",
   "execution_count": 51,
   "id": "59543831",
   "metadata": {},
   "outputs": [
    {
     "data": {
      "text/plain": [
       "2×2 Matrix{Float64}:\n",
       " 6.95245e-310  6.95245e-310\n",
       " 6.95245e-310  6.95245e-310"
      ]
     },
     "execution_count": 51,
     "metadata": {},
     "output_type": "execute_result"
    }
   ],
   "source": [
    "M = Matrix{Float64}(undef,2,2)   # Создать неиницилизированную матрицу чисел 2 x 2"
   ]
  },
  {
   "cell_type": "code",
   "execution_count": 52,
   "id": "1b6f9fd5",
   "metadata": {},
   "outputs": [
    {
     "data": {
      "text/plain": [
       "5-element Vector{Float64}:\n",
       " 6.95245306130697e-310\n",
       " 6.95245306130697e-310\n",
       " 6.95245306130697e-310\n",
       " 6.95245306130697e-310\n",
       " 2.5e-323"
      ]
     },
     "execution_count": 52,
     "metadata": {},
     "output_type": "execute_result"
    }
   ],
   "source": [
    "M = Vector{Float64}(undef,5)   # Создать неиницилизированный вектор 5 чисел"
   ]
  },
  {
   "cell_type": "markdown",
   "id": "a392bd3c",
   "metadata": {},
   "source": [
    "Создать пустой массив"
   ]
  },
  {
   "cell_type": "code",
   "execution_count": 53,
   "id": "36e21d63",
   "metadata": {},
   "outputs": [
    {
     "data": {
      "text/plain": [
       "Float64[]"
      ]
     },
     "execution_count": 53,
     "metadata": {},
     "output_type": "execute_result"
    }
   ],
   "source": [
    "A = Float64[]     # Создать пустой массив для чисел"
   ]
  },
  {
   "cell_type": "code",
   "execution_count": 54,
   "id": "e3ecffd0",
   "metadata": {},
   "outputs": [
    {
     "data": {
      "text/plain": [
       "String[]"
      ]
     },
     "execution_count": 54,
     "metadata": {},
     "output_type": "execute_result"
    }
   ],
   "source": [
    "A = String[]      # Создать пустой массив для строк"
   ]
  },
  {
   "cell_type": "code",
   "execution_count": 55,
   "id": "d0774234",
   "metadata": {},
   "outputs": [
    {
     "data": {
      "text/plain": [
       "Any[]"
      ]
     },
     "execution_count": 55,
     "metadata": {},
     "output_type": "execute_result"
    }
   ],
   "source": [
    "A = []              # Создать пустой массив, для элементов любого типа"
   ]
  },
  {
   "cell_type": "markdown",
   "id": "f60ac012",
   "metadata": {},
   "source": [
    "## 2.2. Доступ к элементам массива\n",
    "\n",
    "В Julia нумерация начинается с 1, а не с 0 как в С и Python"
   ]
  },
  {
   "cell_type": "code",
   "execution_count": 56,
   "id": "b2135fcb",
   "metadata": {},
   "outputs": [],
   "source": [
    "A = [11, 22, 33, 44, 55, 66, 77, 88];"
   ]
  },
  {
   "cell_type": "code",
   "execution_count": 57,
   "id": "22e4390b",
   "metadata": {},
   "outputs": [
    {
     "data": {
      "text/plain": [
       "33"
      ]
     },
     "execution_count": 57,
     "metadata": {},
     "output_type": "execute_result"
    }
   ],
   "source": [
    "A[3] # элемент по индексу 3"
   ]
  },
  {
   "cell_type": "code",
   "execution_count": 58,
   "id": "193ec0d4",
   "metadata": {},
   "outputs": [
    {
     "data": {
      "text/plain": [
       "88"
      ]
     },
     "execution_count": 58,
     "metadata": {},
     "output_type": "execute_result"
    }
   ],
   "source": [
    "A[end]  # последний элемент"
   ]
  },
  {
   "cell_type": "code",
   "execution_count": 59,
   "id": "068904f8",
   "metadata": {},
   "outputs": [
    {
     "data": {
      "text/plain": [
       "11"
      ]
     },
     "execution_count": 59,
     "metadata": {},
     "output_type": "execute_result"
    }
   ],
   "source": [
    "A[begin] # первый элемент"
   ]
  },
  {
   "cell_type": "code",
   "execution_count": 60,
   "id": "928e1f54",
   "metadata": {},
   "outputs": [
    {
     "data": {
      "text/plain": [
       "77"
      ]
     },
     "execution_count": 60,
     "metadata": {},
     "output_type": "execute_result"
    }
   ],
   "source": [
    "A[end-1] # предпоследний элемент"
   ]
  },
  {
   "cell_type": "code",
   "execution_count": 61,
   "id": "c4fc893a",
   "metadata": {},
   "outputs": [
    {
     "data": {
      "text/plain": [
       "3-element Vector{Int64}:\n",
       " 11\n",
       " 44\n",
       " 77"
      ]
     },
     "execution_count": 61,
     "metadata": {},
     "output_type": "execute_result"
    }
   ],
   "source": [
    "A[[1,4,7]]  # выборка из 1-, 4- и 7-го элементов "
   ]
  },
  {
   "cell_type": "code",
   "execution_count": 62,
   "id": "93c984bb",
   "metadata": {},
   "outputs": [
    {
     "data": {
      "text/plain": [
       "2×3 Matrix{Int64}:\n",
       " 10  20  30\n",
       " 40  50  60"
      ]
     },
     "execution_count": 62,
     "metadata": {},
     "output_type": "execute_result"
    }
   ],
   "source": [
    "A = [10 20 30 \n",
    "     40 50 60]"
   ]
  },
  {
   "cell_type": "code",
   "execution_count": 63,
   "id": "93c2129e",
   "metadata": {},
   "outputs": [
    {
     "data": {
      "text/plain": [
       "50"
      ]
     },
     "execution_count": 63,
     "metadata": {},
     "output_type": "execute_result"
    }
   ],
   "source": [
    "A[4]  # 4-й по порядку элемент (в Julia массивы храняться по столбцам)"
   ]
  },
  {
   "cell_type": "code",
   "execution_count": 64,
   "id": "9d09cffe",
   "metadata": {},
   "outputs": [
    {
     "data": {
      "text/plain": [
       "60"
      ]
     },
     "execution_count": 64,
     "metadata": {},
     "output_type": "execute_result"
    }
   ],
   "source": [
    "A[2,3]  # элемент второй строки, третьего столбца"
   ]
  },
  {
   "cell_type": "markdown",
   "id": "5c9c5aab",
   "metadata": {},
   "source": [
    "Используйте `:` для доступа ко всей строке/столбцу/матрице"
   ]
  },
  {
   "cell_type": "code",
   "execution_count": 65,
   "id": "b1d03070",
   "metadata": {},
   "outputs": [
    {
     "data": {
      "text/plain": [
       "2-element Vector{Int64}:\n",
       " 20\n",
       " 50"
      ]
     },
     "execution_count": 65,
     "metadata": {},
     "output_type": "execute_result"
    }
   ],
   "source": [
    "A[:,2]  # все элементы второго столбца"
   ]
  },
  {
   "cell_type": "code",
   "execution_count": 66,
   "id": "f5f0eb01",
   "metadata": {},
   "outputs": [
    {
     "data": {
      "text/plain": [
       "3-element Vector{Int64}:\n",
       " 10\n",
       " 20\n",
       " 30"
      ]
     },
     "execution_count": 66,
     "metadata": {},
     "output_type": "execute_result"
    }
   ],
   "source": [
    "A[1,:] # все элементы первой строки"
   ]
  },
  {
   "cell_type": "code",
   "execution_count": 67,
   "id": "c6de77ac",
   "metadata": {},
   "outputs": [
    {
     "data": {
      "text/plain": [
       "6-element Vector{Int64}:\n",
       " 10\n",
       " 40\n",
       " 20\n",
       " 50\n",
       " 30\n",
       " 60"
      ]
     },
     "execution_count": 67,
     "metadata": {},
     "output_type": "execute_result"
    }
   ],
   "source": [
    "A[:]   # все элементы матрицы (удобно для разворячивания в вектор, аналог vec())"
   ]
  },
  {
   "cell_type": "code",
   "execution_count": 68,
   "id": "a6bb87ab",
   "metadata": {},
   "outputs": [
    {
     "data": {
      "text/plain": [
       "2-element Vector{Int64}:\n",
       " 20\n",
       " 30"
      ]
     },
     "execution_count": 68,
     "metadata": {},
     "output_type": "execute_result"
    }
   ],
   "source": [
    "A[1, 2:3] # 2- и 3-й элементы первой строки"
   ]
  },
  {
   "cell_type": "markdown",
   "id": "49c2ab0c",
   "metadata": {},
   "source": [
    "Логическая индексация"
   ]
  },
  {
   "cell_type": "code",
   "execution_count": 69,
   "id": "9d00183f",
   "metadata": {},
   "outputs": [
    {
     "data": {
      "text/plain": [
       "3-element Vector{Int64}:\n",
       " 1\n",
       " 3\n",
       " 5"
      ]
     },
     "execution_count": 69,
     "metadata": {},
     "output_type": "execute_result"
    }
   ],
   "source": [
    "A = collect(1:5)\n",
    "A[[true, false, true, false, true]]   # вернуть элементы с true в позиции индекса"
   ]
  },
  {
   "cell_type": "code",
   "execution_count": 70,
   "id": "2ce27044",
   "metadata": {},
   "outputs": [
    {
     "data": {
      "text/plain": [
       "2-element Vector{Int64}:\n",
       " 4\n",
       " 5"
      ]
     },
     "execution_count": 70,
     "metadata": {},
     "output_type": "execute_result"
    }
   ],
   "source": [
    "A[A.>3]        # вернуть элементы, удовлетворяющие условию"
   ]
  },
  {
   "cell_type": "code",
   "execution_count": 71,
   "id": "72e87ea4",
   "metadata": {},
   "outputs": [
    {
     "data": {
      "text/plain": [
       "5-element BitVector:\n",
       " 0\n",
       " 0\n",
       " 0\n",
       " 1\n",
       " 1"
      ]
     },
     "execution_count": 71,
     "metadata": {},
     "output_type": "execute_result"
    }
   ],
   "source": [
    "A.>3"
   ]
  },
  {
   "cell_type": "markdown",
   "id": "5355f53b",
   "metadata": {},
   "source": [
    "### Эффективный доступ к подмассивам: view()\n",
    "\n",
    "Операция `b = A[4:8]` создает в памяти новый массив. Чтобы работать с частью массива без выделения памяти, используйте `view()` или макрос `@view`"
   ]
  },
  {
   "cell_type": "code",
   "execution_count": 72,
   "id": "483c6583",
   "metadata": {},
   "outputs": [
    {
     "data": {
      "text/plain": [
       "2-element view(::Vector{Int64}, 3:4) with eltype Int64:\n",
       " 3\n",
       " 4"
      ]
     },
     "execution_count": 72,
     "metadata": {},
     "output_type": "execute_result"
    }
   ],
   "source": [
    "A = [1 2 3 4 5 6 7]\n",
    "b = view(A, 3:4)     # подмассив из 3 и 4 элемента"
   ]
  },
  {
   "cell_type": "code",
   "execution_count": 73,
   "id": "80194a4f",
   "metadata": {},
   "outputs": [
    {
     "data": {
      "text/plain": [
       "2-element view(::Vector{Int64}, 3:4) with eltype Int64:\n",
       " 999\n",
       " 999"
      ]
     },
     "execution_count": 73,
     "metadata": {},
     "output_type": "execute_result"
    }
   ],
   "source": [
    "fill!(b, 999)        # изменение значений подмассива ведет к изменению в исходном массиве"
   ]
  },
  {
   "cell_type": "code",
   "execution_count": 74,
   "id": "0479f2cd",
   "metadata": {},
   "outputs": [
    {
     "data": {
      "text/plain": [
       "1×7 Matrix{Int64}:\n",
       " 1  2  999  999  5  6  7"
      ]
     },
     "execution_count": 74,
     "metadata": {},
     "output_type": "execute_result"
    }
   ],
   "source": [
    "A"
   ]
  },
  {
   "cell_type": "code",
   "execution_count": 75,
   "id": "b982cfbf",
   "metadata": {},
   "outputs": [
    {
     "data": {
      "text/plain": [
       "1×7 Matrix{Int64}:\n",
       " 1  2  3  4  111  111  111"
      ]
     },
     "execution_count": 75,
     "metadata": {},
     "output_type": "execute_result"
    }
   ],
   "source": [
    "A = [1 2 3 4 5 6 7]\n",
    "b = @view A[end-2:end]    # макрос удобно использовать, когда используются begin и end\n",
    "\n",
    "fill!(b,111)\n",
    "A"
   ]
  },
  {
   "cell_type": "markdown",
   "id": "9798b64c",
   "metadata": {},
   "source": [
    "Демонстрационный пример"
   ]
  },
  {
   "cell_type": "code",
   "execution_count": 77,
   "id": "0784bcf0",
   "metadata": {},
   "outputs": [
    {
     "name": "stdout",
     "output_type": "stream",
     "text": [
      "  0.008194 seconds (776 allocations: 5.394 MiB, 54.14% compilation time)\n",
      "  0.005115 seconds (771 allocations: 46.770 KiB, 92.68% compilation time)\n"
     ]
    },
    {
     "data": {
      "text/plain": [
       "701250.1487736456"
      ]
     },
     "execution_count": 77,
     "metadata": {},
     "output_type": "execute_result"
    }
   ],
   "source": [
    "function foo(A)\n",
    "     sum(abs2, A)   # вычислить Σ(aᵢⱼ)²\n",
    "end\n",
    "        \n",
    "A = randn(1000,1000)\n",
    "\n",
    "@time s1 = foo(A[:, 200:900])      # при передаче создается новая матрица\n",
    "@time s2 = foo(view(A,:,200:900))  # здесь передается подматрица"
   ]
  },
  {
   "cell_type": "code",
   "execution_count": 78,
   "id": "3bf43672",
   "metadata": {},
   "outputs": [
    {
     "data": {
      "text/plain": [
       "true"
      ]
     },
     "execution_count": 78,
     "metadata": {},
     "output_type": "execute_result"
    }
   ],
   "source": [
    "s1 == s2"
   ]
  },
  {
   "cell_type": "markdown",
   "id": "4c361244",
   "metadata": {},
   "source": [
    "## 2.3. Модификация массивов\n",
    "### Добавление элементов"
   ]
  },
  {
   "cell_type": "code",
   "execution_count": 79,
   "id": "c26f281d",
   "metadata": {},
   "outputs": [
    {
     "data": {
      "text/plain": [
       "7-element Vector{Int64}:\n",
       "  1\n",
       "  2\n",
       "  3\n",
       " 10\n",
       "  6\n",
       " 20\n",
       " 30"
      ]
     },
     "execution_count": 79,
     "metadata": {},
     "output_type": "execute_result"
    }
   ],
   "source": [
    "# Чтобы добавить новый элемент к массиву используйте push! или append!\n",
    "A = [1,2,3]\n",
    "\n",
    "push!(A,10,6)            # добавить два элемента 10 и 6\n",
    "append!(A,[20,30])       # присоединяет массив\n",
    "\n",
    "A"
   ]
  },
  {
   "cell_type": "code",
   "execution_count": 80,
   "id": "3d55ca19",
   "metadata": {},
   "outputs": [
    {
     "data": {
      "text/plain": [
       "6-element Vector{Int64}:\n",
       " -20\n",
       " -30\n",
       "  -5\n",
       "   1\n",
       "   2\n",
       "   3"
      ]
     },
     "execution_count": 80,
     "metadata": {},
     "output_type": "execute_result"
    }
   ],
   "source": [
    "# Чтобы добавить элемент в начало списка, используйте pushfirst! или prepend!\n",
    "A = [1,2,3]\n",
    "\n",
    "pushfirst!(A,-5)            # добавить -5 в начало\n",
    "prepend!(A,[-20,-30])       # присоединить в начало массив\n",
    "\n",
    "A"
   ]
  },
  {
   "cell_type": "code",
   "execution_count": 81,
   "id": "d8440371",
   "metadata": {},
   "outputs": [
    {
     "data": {
      "text/plain": [
       "5-element Vector{Int64}:\n",
       "   1\n",
       "   2\n",
       " 100\n",
       "   3\n",
       "   4"
      ]
     },
     "execution_count": 81,
     "metadata": {},
     "output_type": "execute_result"
    }
   ],
   "source": [
    "# Чтобы добавить в конкретную позицию используйте insert!\n",
    "A = [1,2,3,4]\n",
    "\n",
    "insert!(A, 3, 100)           # вставить 100 в 3-ю позицию"
   ]
  },
  {
   "cell_type": "markdown",
   "id": "06cab2f3",
   "metadata": {},
   "source": [
    "### Удаление элементов"
   ]
  },
  {
   "cell_type": "code",
   "execution_count": 82,
   "id": "6cc52a36",
   "metadata": {},
   "outputs": [
    {
     "data": {
      "text/plain": [
       "3-element Vector{Int64}:\n",
       " 2\n",
       " 3\n",
       " 4"
      ]
     },
     "execution_count": 82,
     "metadata": {},
     "output_type": "execute_result"
    }
   ],
   "source": [
    "# Чтобы удалить элемент, используйте pop! или popfirst!\n",
    "A = [1,2,3,4,5]\n",
    "\n",
    "pop!(A)              # удалить последний элемент\n",
    "popfirst!(A)         # удалить первый элемент\n",
    "\n",
    "A"
   ]
  },
  {
   "cell_type": "code",
   "execution_count": 83,
   "id": "8e1c62ab",
   "metadata": {},
   "outputs": [
    {
     "name": "stdout",
     "output_type": "stream",
     "text": [
      "[1, 2, 4, 5]"
     ]
    },
    {
     "data": {
      "text/plain": [
       "2-element Vector{Int64}:\n",
       " 1\n",
       " 4"
      ]
     },
     "execution_count": 83,
     "metadata": {},
     "output_type": "execute_result"
    }
   ],
   "source": [
    "# Чтобы удалить в конкретной позиции, используйте deleteat!\n",
    "A = [1,2,3,4,5]\n",
    "\n",
    "deleteat!(A, 3)       # удалить 3й элемент\n",
    "print(A)\n",
    "\n",
    "deleteat!(A, [2,4])   # удалить 2й и 4й элемент"
   ]
  },
  {
   "cell_type": "code",
   "execution_count": 84,
   "id": "f35d23e1",
   "metadata": {},
   "outputs": [
    {
     "data": {
      "text/plain": [
       "Int64[]"
      ]
     },
     "execution_count": 84,
     "metadata": {},
     "output_type": "execute_result"
    }
   ],
   "source": [
    "# Чтобы удалить все элементы, используйте empty!\n",
    "A = [1,2,3,4,5]\n",
    "empty!(A)"
   ]
  },
  {
   "cell_type": "markdown",
   "id": "6ae63eae",
   "metadata": {},
   "source": [
    "### Объединение (конкатенация) массивов"
   ]
  },
  {
   "cell_type": "code",
   "execution_count": 85,
   "id": "196446b6",
   "metadata": {},
   "outputs": [
    {
     "data": {
      "text/plain": [
       "4×3 Matrix{Int64}:\n",
       "  1   2   3\n",
       "  4   5   6\n",
       " -1  -2  -3\n",
       " -4  -5  -6"
      ]
     },
     "execution_count": 85,
     "metadata": {},
     "output_type": "execute_result"
    }
   ],
   "source": [
    "# Сочленить два массива по вертикали\n",
    "A =  [1 2 3 \n",
    "      4 5 6]\n",
    "\n",
    "B = -[1 2 3 \n",
    "      4 5 6]\n",
    "\n",
    "C = [A; B]                 # или C = vcat(A,B) или С = cat(A,B, dims=1)"
   ]
  },
  {
   "cell_type": "code",
   "execution_count": 86,
   "id": "f72ff549",
   "metadata": {},
   "outputs": [
    {
     "data": {
      "text/plain": [
       "2×6 Matrix{Int64}:\n",
       " 1  2  3  -1  -2  -3\n",
       " 4  5  6  -4  -5  -6"
      ]
     },
     "execution_count": 86,
     "metadata": {},
     "output_type": "execute_result"
    }
   ],
   "source": [
    "# Сочленить два массива по горизонтали\n",
    "C = [A B]                # или C = hcat(A,B) или C = cat(A,B,dims=2)"
   ]
  },
  {
   "cell_type": "markdown",
   "id": "1d950984",
   "metadata": {},
   "source": [
    "### Пермутации массива"
   ]
  },
  {
   "cell_type": "code",
   "execution_count": 87,
   "id": "2979baf2",
   "metadata": {},
   "outputs": [
    {
     "data": {
      "text/plain": [
       "2×2 Matrix{Int64}:\n",
       " 1  3\n",
       " 2  4"
      ]
     },
     "execution_count": 87,
     "metadata": {},
     "output_type": "execute_result"
    }
   ],
   "source": [
    "# Преобразовать вектор в матрицу\n",
    "A = [1,2,3,4]                   # одномерный массив 4х1\n",
    "reshape(A,2,2)                  # двухмерный 2x2 массив"
   ]
  },
  {
   "cell_type": "code",
   "execution_count": 88,
   "id": "15c910ab",
   "metadata": {},
   "outputs": [
    {
     "data": {
      "text/plain": [
       "6×2 Matrix{Int64}:\n",
       "  1   8\n",
       "  4  11\n",
       "  7   3\n",
       " 10   6\n",
       "  2   9\n",
       "  5  12"
      ]
     },
     "execution_count": 88,
     "metadata": {},
     "output_type": "execute_result"
    }
   ],
   "source": [
    "# Можно менять измерения двухмерного матрицы\n",
    "A = [1  2  3\n",
    "     4  5  6 \n",
    "     7  8  9 \n",
    "     10 11 12]     # массив 4х3\n",
    "\n",
    "reshape(A, 6, 2)   # массив 6х2"
   ]
  },
  {
   "cell_type": "code",
   "execution_count": 89,
   "id": "0256ea24",
   "metadata": {},
   "outputs": [
    {
     "data": {
      "text/plain": [
       "2×2×2×2 Array{Int64, 4}:\n",
       "[:, :, 1, 1] =\n",
       " 1  3\n",
       " 2  4\n",
       "\n",
       "[:, :, 2, 1] =\n",
       " 5  7\n",
       " 6  8\n",
       "\n",
       "[:, :, 1, 2] =\n",
       "  9  11\n",
       " 10  12\n",
       "\n",
       "[:, :, 2, 2] =\n",
       " 13  15\n",
       " 14  16"
      ]
     },
     "execution_count": 89,
     "metadata": {},
     "output_type": "execute_result"
    }
   ],
   "source": [
    "# Преобразовать вектор в 4-мерный массив\n",
    "A = reshape(Vector(1:16), (2, 2, 2, 2))"
   ]
  },
  {
   "cell_type": "code",
   "execution_count": 90,
   "id": "b701dea1",
   "metadata": {},
   "outputs": [
    {
     "name": "stdout",
     "output_type": "stream",
     "text": [
      "[1 3; 2 4;;;;]"
     ]
    },
    {
     "data": {
      "text/plain": [
       "2×2×1 Array{Int64, 3}:\n",
       "[:, :, 1] =\n",
       " 1  3\n",
       " 2  4"
      ]
     },
     "execution_count": 90,
     "metadata": {},
     "output_type": "execute_result"
    }
   ],
   "source": [
    "# Удалить \"пустую\" размерность\n",
    "A = reshape(Vector(1:4), (2, 2, 1, 1))\n",
    "print(A)\n",
    "\n",
    "dropdims(A, dims=4)    # удалить 4-ю размерность"
   ]
  },
  {
   "cell_type": "code",
   "execution_count": 91,
   "id": "a8c517c1",
   "metadata": {},
   "outputs": [
    {
     "data": {
      "text/plain": [
       "5-element Vector{Int64}:\n",
       " 5\n",
       " 1\n",
       " 2\n",
       " 3\n",
       " 4"
      ]
     },
     "execution_count": 91,
     "metadata": {},
     "output_type": "execute_result"
    }
   ],
   "source": [
    "# \"Вращать\" массив\n",
    "A = [1,2,3,4,5]\n",
    "\n",
    "circshift(A, 1)      # сместить элементы на одну позицию"
   ]
  },
  {
   "cell_type": "code",
   "execution_count": 92,
   "id": "d3cdc069",
   "metadata": {},
   "outputs": [
    {
     "data": {
      "text/plain": [
       "4×4 Matrix{Int64}:\n",
       "  9  13  1  5\n",
       " 10  14  2  6\n",
       " 11  15  3  7\n",
       " 12  16  4  8"
      ]
     },
     "execution_count": 92,
     "metadata": {},
     "output_type": "execute_result"
    }
   ],
   "source": [
    "A = [1  5   9  13\n",
    "     2  6  10  14\n",
    "     3  7  11  15\n",
    "     4  8  12  16]\n",
    "\n",
    "circshift(A, (0,2))   # сместить столбцы на две позиции"
   ]
  },
  {
   "cell_type": "code",
   "execution_count": 93,
   "id": "eb62435c",
   "metadata": {},
   "outputs": [
    {
     "data": {
      "text/plain": [
       "4×4 Matrix{Int64}:\n",
       "  1   2   3   4\n",
       "  5   6   7   8\n",
       "  9  10  11  12\n",
       " 13  14  15  16"
      ]
     },
     "execution_count": 93,
     "metadata": {},
     "output_type": "execute_result"
    }
   ],
   "source": [
    "# Поменять местами оси\n",
    "A = [1  5   9  13\n",
    "     2  6  10  14\n",
    "     3  7  11  15\n",
    "     4  8  12  16]\n",
    "\n",
    "permutedims(A)                "
   ]
  },
  {
   "cell_type": "code",
   "execution_count": 94,
   "id": "3ea632c8",
   "metadata": {},
   "outputs": [
    {
     "data": {
      "text/plain": [
       "4×4 transpose(::Matrix{Int64}) with eltype Int64:\n",
       "  1   2   3   4\n",
       "  5   6   7   8\n",
       "  9  10  11  12\n",
       " 13  14  15  16"
      ]
     },
     "execution_count": 94,
     "metadata": {},
     "output_type": "execute_result"
    }
   ],
   "source": [
    "# Tранспонировать \n",
    "transpose(A)"
   ]
  },
  {
   "cell_type": "code",
   "execution_count": 95,
   "id": "dd8f3e57",
   "metadata": {},
   "outputs": [
    {
     "data": {
      "text/plain": [
       "4×4 Matrix{Int64}:\n",
       "  1   2   3   4\n",
       "  5   6   7   8\n",
       "  9  10  11  12\n",
       " 13  14  15  16"
      ]
     },
     "execution_count": 95,
     "metadata": {},
     "output_type": "execute_result"
    }
   ],
   "source": [
    "# Aᵀ\n",
    "Matrix(A')"
   ]
  },
  {
   "cell_type": "markdown",
   "id": "44c00fb1",
   "metadata": {},
   "source": [
    "### Создание копии массива\n",
    "\n",
    "`B = A` не создает копии массива A, но лишь новый указатель на него"
   ]
  },
  {
   "cell_type": "code",
   "execution_count": 96,
   "id": "613bd80b",
   "metadata": {},
   "outputs": [
    {
     "data": {
      "text/plain": [
       "2×3 Matrix{Int64}:\n",
       " 1  2  3\n",
       " 4  5  6"
      ]
     },
     "execution_count": 96,
     "metadata": {},
     "output_type": "execute_result"
    }
   ],
   "source": [
    "# Для создания копии массива используйте copy()\n",
    "A = [1 2 3    \n",
    "     4 5 6]\n",
    "\n",
    "B = copy(A)     # Полноценная копия\n"
   ]
  },
  {
   "cell_type": "code",
   "execution_count": 97,
   "id": "41963abc",
   "metadata": {},
   "outputs": [
    {
     "data": {
      "text/plain": [
       "false"
      ]
     },
     "execution_count": 97,
     "metadata": {},
     "output_type": "execute_result"
    }
   ],
   "source": [
    "A === B"
   ]
  },
  {
   "cell_type": "code",
   "execution_count": 98,
   "id": "9d656a6d",
   "metadata": {},
   "outputs": [
    {
     "data": {
      "text/plain": [
       "2×3 Matrix{Int64}:\n",
       " 1  2  3\n",
       " 4  5  6"
      ]
     },
     "execution_count": 98,
     "metadata": {},
     "output_type": "execute_result"
    }
   ],
   "source": [
    "B=A"
   ]
  },
  {
   "cell_type": "code",
   "execution_count": 99,
   "id": "ce09e7b7",
   "metadata": {},
   "outputs": [
    {
     "data": {
      "text/plain": [
       "2-element Vector{Matrix{Int64}}:\n",
       " [1 2; 3 4]\n",
       " [3 4; 5 6]"
      ]
     },
     "execution_count": 99,
     "metadata": {},
     "output_type": "execute_result"
    }
   ],
   "source": [
    "# Для создания копии сложной структуры данных\n",
    "# например, массива массивов используйте deepcopy()\n",
    "A = [ [1 2; 3  4], [3 4; 5 6] ]\n",
    "B = deepcopy(A)"
   ]
  },
  {
   "cell_type": "markdown",
   "id": "4684b6c0",
   "metadata": {},
   "source": [
    "## 2.4. Характеристики массива"
   ]
  },
  {
   "cell_type": "markdown",
   "id": "b41c8b22",
   "metadata": {},
   "source": [
    "```\n",
    "ndims(A)      Размерность массива\n",
    "size(A)       Количество осей (строк и столбцов) массива\n",
    "length(A)     Общее число элементов массива \n",
    "eltype(A)     Тип элементов массива\n",
    "```"
   ]
  },
  {
   "cell_type": "code",
   "execution_count": 100,
   "id": "1089be9d",
   "metadata": {},
   "outputs": [
    {
     "data": {
      "text/plain": [
       "2×3 Matrix{Float64}:\n",
       " 1.0  2.0  3.0\n",
       " 3.0  6.0  4.0"
      ]
     },
     "execution_count": 100,
     "metadata": {},
     "output_type": "execute_result"
    }
   ],
   "source": [
    "A = [1.0 2 3; 3 6 4]"
   ]
  },
  {
   "cell_type": "code",
   "execution_count": 101,
   "id": "4e3070ac",
   "metadata": {},
   "outputs": [
    {
     "data": {
      "text/plain": [
       "Float64"
      ]
     },
     "execution_count": 101,
     "metadata": {},
     "output_type": "execute_result"
    }
   ],
   "source": [
    "eltype(A)"
   ]
  },
  {
   "cell_type": "markdown",
   "id": "0f8c9e5a",
   "metadata": {},
   "source": [
    "## 2.5. Разреженные массивы \n",
    "\n",
    "Разреженные матрицы используются в задачах электроэнергетики и других областях, связанных с сетевыми объектами\n",
    "\n",
    "Примеры:\n",
    "- матрица инциденций графа сети\n",
    "- матрица проводивостей электрической сети\n",
    "- дифференциальное уравнение в частных производных\n",
    "\n",
    "Для представления данных с помощью разреженных матриц см. стандартную библиотеку [SparseArrays](https://docs.julialang.org/en/v1/stdlib/SparseArrays/)\n",
    "\n",
    "Линейная алгебра для разреженных массивов представлена стандартной библиотекой [SuiteSparse](https://docs.julialang.org/en/v1/stdlib/SuiteSparse/) и другими пакетами экосистемы Julia"
   ]
  },
  {
   "cell_type": "code",
   "execution_count": 102,
   "id": "dacea849",
   "metadata": {},
   "outputs": [
    {
     "data": {
      "text/plain": [
       "3×4 Matrix{Int64}:\n",
       " 1  0  0  0\n",
       " 0  2  3  0\n",
       " 0  0  5  0"
      ]
     },
     "execution_count": 102,
     "metadata": {},
     "output_type": "execute_result"
    }
   ],
   "source": [
    "using SparseArrays\n",
    "\n",
    "B = [1 0 0 0; \n",
    "     0 2 3 0; \n",
    "     0 0 5 0]"
   ]
  },
  {
   "cell_type": "code",
   "execution_count": 103,
   "id": "2d37fcb5",
   "metadata": {},
   "outputs": [
    {
     "data": {
      "text/plain": [
       "3×4 SparseMatrixCSC{Int64, Int64} with 4 stored entries:\n",
       " 1  ⋅  ⋅  ⋅\n",
       " ⋅  2  3  ⋅\n",
       " ⋅  ⋅  5  ⋅"
      ]
     },
     "execution_count": 103,
     "metadata": {},
     "output_type": "execute_result"
    }
   ],
   "source": [
    "A = sparse(B)      # конвертировать в разреженную матрицу"
   ]
  },
  {
   "cell_type": "code",
   "execution_count": 104,
   "id": "e4f8e514",
   "metadata": {},
   "outputs": [
    {
     "data": {
      "text/plain": [
       "1000×1000 SparseMatrixCSC{Float64, Int64} with 1001 stored entries:\n",
       "⠀⠀⠈⠂⠌⠈⠢⢈⠄⠀⠄⠀⠐⡀⠶⠀⢀⡄⠰⠀⣄⢀⣀⠆⠀⠠⠠⡀⠀⠓⠀⠆⢀⠀⠡⠠⠄⠠⠀⠀\n",
       "⠀⠀⢥⠠⢀⠂⢈⢀⠠⠐⠐⠠⠢⠂⣀⠀⠐⢈⠡⡀⡄⠈⠐⠕⠀⠀⢀⡀⠀⡆⠂⢒⠠⠁⠀⠨⠅⠰⡀⠐\n",
       "⠨⡐⢐⣀⡆⠁⠁⠀⠂⢌⡀⠀⠢⠀⠀⠡⠀⣀⠠⡀⠅⠂⠐⠠⢀⠀⠀⢊⠀⠈⠅⠆⡔⠀⠄⠀⠲⢀⠰⠀\n",
       "⠀⡀⠈⢁⠀⡃⢐⡀⠀⠠⠀⠀⠈⡄⠁⠀⠀⠂⠢⠀⢁⠀⣀⠈⠂⠅⢠⠀⠀⠂⡸⡐⠄⠂⠀⠉⠂⣀⠀⠂\n",
       "⠀⠄⠂⠀⢀⠀⡆⠀⠠⢀⠀⠁⡀⠈⠀⠀⢐⠀⡐⠀⠀⠀⠀⠀⠈⢐⠂⠀⢢⠠⠀⠆⠉⠁⡈⠌⢀⠒⠠⠈\n",
       "⠡⠐⠇⠄⠀⠄⠀⠨⠈⠄⠀⠠⠀⢂⠁⢀⠃⠠⠡⠄⢈⠂⠀⠄⡁⠀⡲⠑⠀⠨⢀⠀⠌⣀⠀⡃⢂⢁⠘⠀\n",
       "⠏⠁⠠⠐⠀⢀⡀⡖⠀⠀⢂⠜⠀⢂⠁⢀⠐⠀⢃⢀⠄⠠⢈⠀⢐⠀⠂⠅⠊⢀⠀⡀⡀⡐⢰⠁⡪⠀⠀⡀\n",
       "⠑⠄⢡⠐⠐⢠⠀⠀⢀⠀⠀⠄⡠⡀⠀⠀⠁⠎⢀⠀⠠⢀⢀⠁⠀⡂⠢⣀⠀⠄⠨⠄⠀⡂⠐⠁⠂⠀⣀⠂\n",
       "⠃⠐⢤⠐⠀⠉⠀⠐⢂⡀⠠⠂⠂⠑⠔⠀⠀⠑⠐⡠⠊⡐⢈⢀⠂⠨⠠⠀⠀⡠⣀⡄⠂⠠⠀⡀⢂⠈⠀⠠\n",
       "⢀⡖⠄⣂⠒⠄⠁⢈⢐⡠⢀⢀⠂⠠⢀⠀⢈⠀⠆⠂⡀⠀⠀⠁⠀⡔⠄⠀⠐⠀⠁⢄⠊⢆⠂⠰⠀⠑⡀⠠\n",
       "⠈⠀⠀⠄⡂⠀⣀⡠⠀⠊⠄⠂⠂⠠⡀⠠⠀⠀⠄⠃⠀⢨⡀⠄⠀⣁⠀⠐⢰⠀⣀⠀⠈⠀⠨⡂⡀⠐⠀⠀\n",
       "⠀⠨⠀⠈⢡⠠⠀⠠⠁⠀⠐⠀⠠⠀⡂⠫⠄⠠⠀⠂⠈⠁⡀⠀⠀⢄⠉⠄⠠⠨⠀⢀⠀⠀⡀⠠⢢⠆⡠⢀\n",
       "⡀⠀⠅⠄⠨⠀⠀⢂⠂⠀⢰⠀⢡⠀⢀⠀⠁⠈⢀⠔⠀⠐⡀⠀⢀⠐⠊⠄⠒⠂⢂⠠⠐⠀⠔⢂⠐⠐⠄⠁\n",
       "⠀⢔⠠⠀⡈⠐⠂⡐⠀⢂⢀⠤⡈⠀⠠⠀⠈⠂⠀⠀⠐⠙⢂⢀⠱⡐⠁⠀⠄⠐⢄⠠⡑⢀⠈⡀⠄⠀⠂⠄\n",
       "⠤⠐⡰⢁⡢⠂⠈⠐⠆⠈⠀⣁⠃⠀⢀⠀⢠⠀⠀⠉⡀⠠⠣⠀⢤⢐⠄⡂⠀⡀⠀⠢⠀⡀⠠⣐⡒⠄⠤⠀\n",
       "⠀⣂⠂⡀⡑⠀⠀⠠⢀⢈⡀⠨⠐⡀⠁⠁⠃⠀⠁⠲⢤⠀⠐⠂⠄⠀⠁⠠⠀⣀⠂⠂⠩⠀⡀⢀⠀⠀⠐⠐\n",
       "⠁⡈⠀⠀⡂⠀⡈⠠⠈⠠⠣⠀⢂⠠⠉⢂⠐⠀⡀⢀⠉⢡⢠⡰⠠⠀⡀⢈⠀⠀⠘⠀⠈⡂⠨⠊⡉⢄⡢⠀\n",
       "⢀⠠⡀⠰⠠⠀⠀⠠⠀⢐⠈⠠⠁⠤⠄⡡⢀⠀⢀⠁⠀⠀⠀⡩⠈⠁⠀⠀⠐⡠⣂⢄⠀⠀⡀⠡⡬⠀⠀⠂\n",
       "⠠⠁⠄⠠⠐⠰⠶⠡⠂⡠⠓⠁⠑⢈⠣⠐⡀⠈⠀⢈⠀⠅⠄⠀⠀⠁⠘⡐⠀⢄⠀⠰⠄⠀⠀⠀⠁⠈⠀⡊\n",
       "⠄⠠⠀⢀⠀⠐⠀⡠⠀⠩⡀⠁⠀⠉⡀⢀⠈⠀⠈⠀⠀⠐⠤⠨⠌⡀⠐⠁⢁⠁⢄⠀⠂⠐⠂⠈⠂⠠⠡⠀"
      ]
     },
     "execution_count": 104,
     "metadata": {},
     "output_type": "execute_result"
    }
   ],
   "source": [
    "A = sprand(1000,1000,0.001) # создать случайную разреженную матрицу с плотностью 0.001, "
   ]
  },
  {
   "cell_type": "markdown",
   "id": "f772f759",
   "metadata": {},
   "source": [
    "В разреженном формате матрица хранит N ненулевых элементов и занимает ≈ 3xNx8 байт"
   ]
  },
  {
   "cell_type": "code",
   "execution_count": 105,
   "id": "e1e3455c",
   "metadata": {},
   "outputs": [
    {
     "name": "stdout",
     "output_type": "stream",
     "text": [
      "Элементов: 1001\n",
      "Байтов:    24184\n"
     ]
    }
   ],
   "source": [
    "println(\"Элементов: \", nnz(A))\n",
    "println(\"Байтов:    \", Base.summarysize(A))"
   ]
  },
  {
   "cell_type": "markdown",
   "id": "11c2f0dd",
   "metadata": {},
   "source": [
    "В плотном формате матрица содержит 1_000_000 элементов и занимает ≈ size х size х 8 байт"
   ]
  },
  {
   "cell_type": "code",
   "execution_count": 106,
   "id": "bfb46251",
   "metadata": {},
   "outputs": [
    {
     "name": "stdout",
     "output_type": "stream",
     "text": [
      "Элементов: 1000000\n",
      "Байтов:    8000040\n"
     ]
    }
   ],
   "source": [
    "B = Matrix(A)          # конвертируем в плотный формат\n",
    "\n",
    "println(\"Элементов: \", prod(size(B)))\n",
    "println(\"Байтов:    \", Base.summarysize(B))"
   ]
  },
  {
   "cell_type": "markdown",
   "id": "bd6bef57",
   "metadata": {},
   "source": [
    "Время на выполнение операций зависит от числа элементов"
   ]
  },
  {
   "cell_type": "code",
   "execution_count": 108,
   "id": "4fff9f12",
   "metadata": {},
   "outputs": [
    {
     "name": "stdout",
     "output_type": "stream",
     "text": [
      "  0.000063 seconds (7 allocations: 42.078 KiB)\n",
      "  0.027932 seconds (2 allocations: 7.629 MiB)\n"
     ]
    }
   ],
   "source": [
    "@time A*A; # sparse\n",
    "@time B*B; # full"
   ]
  },
  {
   "cell_type": "markdown",
   "id": "49554bf3",
   "metadata": {},
   "source": [
    "## 3. Кортеж\n",
    "\n",
    "Кортеж - упорядоченная коллекция элементов, отличающаяся от массива тем, что она неизменяемая. К ней нельзя добавить новые элементы или удалить имеющиеся.\n",
    "\n",
    "### Обычные кортежи (tuple)"
   ]
  },
  {
   "cell_type": "code",
   "execution_count": 109,
   "id": "431ad737",
   "metadata": {},
   "outputs": [
    {
     "data": {
      "text/plain": [
       "(1, 2.5, \"s\", [1, 2, 3], 5//7, π)"
      ]
     },
     "execution_count": 109,
     "metadata": {},
     "output_type": "execute_result"
    }
   ],
   "source": [
    "# Создать кортеж\n",
    "A = (1, 2.5, \"s\", [1,2,3], 5//7, pi)"
   ]
  },
  {
   "cell_type": "code",
   "execution_count": 110,
   "id": "75c81e98",
   "metadata": {},
   "outputs": [
    {
     "data": {
      "text/plain": [
       "(50,)"
      ]
     },
     "execution_count": 110,
     "metadata": {},
     "output_type": "execute_result"
    }
   ],
   "source": [
    "# Кортеж из одного элемента (запятая обязательна)\n",
    "a = (50,)"
   ]
  },
  {
   "cell_type": "code",
   "execution_count": 111,
   "id": "6b156d76",
   "metadata": {},
   "outputs": [
    {
     "data": {
      "text/plain": [
       "(\"s\", [1, 2, 3], 5//7)"
      ]
     },
     "execution_count": 111,
     "metadata": {},
     "output_type": "execute_result"
    }
   ],
   "source": [
    "# Доступ к элементам\n",
    "A[3:5]"
   ]
  },
  {
   "cell_type": "code",
   "execution_count": 112,
   "id": "a67ea479",
   "metadata": {},
   "outputs": [
    {
     "data": {
      "text/plain": [
       "6-element Vector{Any}:\n",
       "  1\n",
       "  2.5\n",
       "   \"s\"\n",
       "   [1, 2, 3]\n",
       " 5//7\n",
       "  π = 3.1415926535897..."
      ]
     },
     "execution_count": 112,
     "metadata": {},
     "output_type": "execute_result"
    }
   ],
   "source": [
    "# Преобразовать в массив\n",
    "B = collect(A)"
   ]
  },
  {
   "cell_type": "code",
   "execution_count": 113,
   "id": "99d70e5f",
   "metadata": {},
   "outputs": [
    {
     "ename": "LoadError",
     "evalue": "MethodError: no method matching setindex!(::Tuple{Int64, Float64, String, Vector{Int64}, Rational{Int64}, Irrational{:π}}, ::Int64, ::Int64)",
     "output_type": "error",
     "traceback": [
      "MethodError: no method matching setindex!(::Tuple{Int64, Float64, String, Vector{Int64}, Rational{Int64}, Irrational{:π}}, ::Int64, ::Int64)",
      "",
      "Stacktrace:",
      " [1] top-level scope",
      "   @ In[113]:2",
      " [2] eval",
      "   @ ./boot.jl:373 [inlined]",
      " [3] include_string(mapexpr::typeof(REPL.softscope), mod::Module, code::String, filename::String)",
      "   @ Base ./loading.jl:1196"
     ]
    }
   ],
   "source": [
    "# Изменить нельзя\n",
    "A[4]=6"
   ]
  },
  {
   "cell_type": "code",
   "execution_count": 114,
   "id": "cdffdf86",
   "metadata": {},
   "outputs": [
    {
     "data": {
      "text/plain": [
       "6"
      ]
     },
     "execution_count": 114,
     "metadata": {},
     "output_type": "execute_result"
    }
   ],
   "source": [
    "# Число элементов кортежа\n",
    "length(A)"
   ]
  },
  {
   "cell_type": "code",
   "execution_count": 115,
   "id": "9513d04a",
   "metadata": {},
   "outputs": [
    {
     "data": {
      "text/plain": [
       "(1, 4, 9, 16)"
      ]
     },
     "execution_count": 115,
     "metadata": {},
     "output_type": "execute_result"
    }
   ],
   "source": [
    "foo(x)=x^2\n",
    "\n",
    "# Создать кортеж используя функцию ntuple (см. ?ntuple)\n",
    "B=ntuple(foo, 4)"
   ]
  },
  {
   "cell_type": "code",
   "execution_count": 116,
   "id": "8a83fcf0",
   "metadata": {},
   "outputs": [
    {
     "data": {
      "text/plain": [
       "true"
      ]
     },
     "execution_count": 116,
     "metadata": {},
     "output_type": "execute_result"
    }
   ],
   "source": [
    "# Проверить наличие элемента в кортеже\n",
    "9 in B"
   ]
  },
  {
   "cell_type": "code",
   "execution_count": 117,
   "id": "824292e3",
   "metadata": {},
   "outputs": [
    {
     "data": {
      "text/plain": [
       "9"
      ]
     },
     "execution_count": 117,
     "metadata": {},
     "output_type": "execute_result"
    }
   ],
   "source": [
    "# Распаковать кортеж (присвоить значения элементов переменным)\n",
    "a,b,c,d = B\n",
    "c"
   ]
  },
  {
   "cell_type": "code",
   "execution_count": 118,
   "id": "0ad29bf8",
   "metadata": {},
   "outputs": [
    {
     "data": {
      "text/plain": [
       "(1, 2, 3, 4)"
      ]
     },
     "execution_count": 118,
     "metadata": {},
     "output_type": "execute_result"
    }
   ],
   "source": [
    "# преобразовать набор элементов в кортеж\n",
    "a=[1,2,3,4]\n",
    "\n",
    "tuple(a...)"
   ]
  },
  {
   "cell_type": "code",
   "execution_count": 119,
   "id": "3a9c7cfe",
   "metadata": {},
   "outputs": [
    {
     "data": {
      "text/plain": [
       "(1, 2, 3, 4)"
      ]
     },
     "execution_count": 119,
     "metadata": {},
     "output_type": "execute_result"
    }
   ],
   "source": [
    "# или\n",
    "Tuple(a)"
   ]
  },
  {
   "cell_type": "markdown",
   "id": "9108e82c",
   "metadata": {},
   "source": [
    "### Именованные кортежи (namedtuple)"
   ]
  },
  {
   "cell_type": "code",
   "execution_count": 120,
   "id": "4625fd14",
   "metadata": {},
   "outputs": [
    {
     "data": {
      "text/plain": [
       "(a = 1, b = 2)"
      ]
     },
     "execution_count": 120,
     "metadata": {},
     "output_type": "execute_result"
    }
   ],
   "source": [
    "# Создать именованный кортеж\n",
    "z = (a=1, b=2)"
   ]
  },
  {
   "cell_type": "code",
   "execution_count": 121,
   "id": "1d87dc54",
   "metadata": {},
   "outputs": [
    {
     "data": {
      "text/plain": [
       "1"
      ]
     },
     "execution_count": 121,
     "metadata": {},
     "output_type": "execute_result"
    }
   ],
   "source": [
    "# Обращение по индексу\n",
    "z[1]"
   ]
  },
  {
   "cell_type": "code",
   "execution_count": 122,
   "id": "1923a330",
   "metadata": {},
   "outputs": [
    {
     "data": {
      "text/plain": [
       "1"
      ]
     },
     "execution_count": 122,
     "metadata": {},
     "output_type": "execute_result"
    }
   ],
   "source": [
    "# по имени\n",
    "z[:a]"
   ]
  },
  {
   "cell_type": "code",
   "execution_count": 123,
   "id": "f614dcda",
   "metadata": {},
   "outputs": [
    {
     "data": {
      "text/plain": [
       "1"
      ]
     },
     "execution_count": 123,
     "metadata": {},
     "output_type": "execute_result"
    }
   ],
   "source": [
    "# или\n",
    "z.a"
   ]
  },
  {
   "cell_type": "code",
   "execution_count": 124,
   "id": "dfa747d2",
   "metadata": {},
   "outputs": [
    {
     "data": {
      "text/plain": [
       "(:a, :b)"
      ]
     },
     "execution_count": 124,
     "metadata": {},
     "output_type": "execute_result"
    }
   ],
   "source": [
    "# Имена элементов\n",
    "keys(z)"
   ]
  },
  {
   "cell_type": "code",
   "execution_count": 125,
   "id": "5a474c87",
   "metadata": {},
   "outputs": [
    {
     "data": {
      "text/plain": [
       "(1, 2)"
      ]
     },
     "execution_count": 125,
     "metadata": {},
     "output_type": "execute_result"
    }
   ],
   "source": [
    "# Значения элементов\n",
    "values(z)"
   ]
  },
  {
   "cell_type": "code",
   "execution_count": 126,
   "id": "57039aae",
   "metadata": {},
   "outputs": [
    {
     "data": {
      "text/plain": [
       "2-element Vector{Int64}:\n",
       " 1\n",
       " 2"
      ]
     },
     "execution_count": 126,
     "metadata": {},
     "output_type": "execute_result"
    }
   ],
   "source": [
    "# При конвертировании в вектор имена теряются\n",
    "collect(z)"
   ]
  },
  {
   "cell_type": "code",
   "execution_count": 127,
   "id": "5411124f",
   "metadata": {},
   "outputs": [
    {
     "data": {
      "text/plain": [
       "2-element Vector{Pair{Symbol, Int64}}:\n",
       " :a => 1\n",
       " :b => 2"
      ]
     },
     "execution_count": 127,
     "metadata": {},
     "output_type": "execute_result"
    }
   ],
   "source": [
    "# Конвертирование в вектор пар ключ=>значение\n",
    "collect(pairs(z))"
   ]
  },
  {
   "cell_type": "markdown",
   "id": "4ca5d758",
   "metadata": {},
   "source": [
    "# 4. Множество\n",
    "\n",
    "Множество - коллекция уникальных элементов"
   ]
  },
  {
   "cell_type": "code",
   "execution_count": 128,
   "id": "ca853778",
   "metadata": {},
   "outputs": [
    {
     "data": {
      "text/plain": [
       "Set{Int64} with 5 elements:\n",
       "  5\n",
       "  4\n",
       "  7\n",
       "  9\n",
       "  1"
      ]
     },
     "execution_count": 128,
     "metadata": {},
     "output_type": "execute_result"
    }
   ],
   "source": [
    "# Создать множество целых чисел, A = { 1, 4, 5, 7, 9} \n",
    "A = Set([1,4,5,7,9])"
   ]
  },
  {
   "cell_type": "code",
   "execution_count": 129,
   "id": "7bfe92b7",
   "metadata": {},
   "outputs": [
    {
     "data": {
      "text/plain": [
       "true"
      ]
     },
     "execution_count": 129,
     "metadata": {},
     "output_type": "execute_result"
    }
   ],
   "source": [
    "# Проверить принадлежность, 4 ∈ A ?\n",
    "4 in A"
   ]
  },
  {
   "cell_type": "code",
   "execution_count": 130,
   "id": "6aa0bc0f",
   "metadata": {},
   "outputs": [
    {
     "data": {
      "text/plain": [
       "Set{String}()"
      ]
     },
     "execution_count": 130,
     "metadata": {},
     "output_type": "execute_result"
    }
   ],
   "source": [
    "# Создать пустое множество, C = Ø\n",
    "C = Set{String}()"
   ]
  },
  {
   "cell_type": "code",
   "execution_count": 131,
   "id": "9d761d56",
   "metadata": {},
   "outputs": [
    {
     "data": {
      "text/plain": [
       "Set{String} with 2 elements:\n",
       "  \"g\"\n",
       "  \"ty\""
      ]
     },
     "execution_count": 131,
     "metadata": {},
     "output_type": "execute_result"
    }
   ],
   "source": [
    "# Добавление элементов \"g\" и \"ty\" в C\n",
    "push!(C,\"g\",\"ty\")"
   ]
  },
  {
   "cell_type": "code",
   "execution_count": 132,
   "id": "9201414b",
   "metadata": {},
   "outputs": [
    {
     "data": {
      "text/plain": [
       "Set{String} with 1 element:\n",
       "  \"ty\""
      ]
     },
     "execution_count": 132,
     "metadata": {},
     "output_type": "execute_result"
    }
   ],
   "source": [
    "# Удаление элемента, C\\{1}\n",
    "delete!(C,\"g\")"
   ]
  },
  {
   "cell_type": "code",
   "execution_count": 133,
   "id": "0cf8729c",
   "metadata": {},
   "outputs": [
    {
     "data": {
      "text/plain": [
       "Set{Int64} with 7 elements:\n",
       "  5\n",
       "  6\n",
       "  2\n",
       "  9\n",
       "  8\n",
       "  3\n",
       "  1"
      ]
     },
     "execution_count": 133,
     "metadata": {},
     "output_type": "execute_result"
    }
   ],
   "source": [
    "# Объединение множеств, A ∪ B\n",
    "A = Set([1,2,3,8,9])\n",
    "B = Set([3,5,6,8])\n",
    "\n",
    "С = union(A,B)"
   ]
  },
  {
   "cell_type": "code",
   "execution_count": 134,
   "id": "344a0cb7",
   "metadata": {},
   "outputs": [
    {
     "data": {
      "text/plain": [
       "Set{Int64} with 2 elements:\n",
       "  8\n",
       "  3"
      ]
     },
     "execution_count": 134,
     "metadata": {},
     "output_type": "execute_result"
    }
   ],
   "source": [
    "# Пересечение множеств, A ∩ B\n",
    "intersect(A,B)"
   ]
  },
  {
   "cell_type": "code",
   "execution_count": 135,
   "id": "59632120",
   "metadata": {},
   "outputs": [
    {
     "data": {
      "text/plain": [
       "Set{Int64} with 3 elements:\n",
       "  2\n",
       "  9\n",
       "  1"
      ]
     },
     "execution_count": 135,
     "metadata": {},
     "output_type": "execute_result"
    }
   ],
   "source": [
    "# Разность множеств, A \\ B\n",
    "setdiff(A,B)"
   ]
  },
  {
   "cell_type": "code",
   "execution_count": 136,
   "id": "7df6d130",
   "metadata": {},
   "outputs": [
    {
     "data": {
      "text/plain": [
       "Set{Int64} with 5 elements:\n",
       "  5\n",
       "  6\n",
       "  2\n",
       "  9\n",
       "  1"
      ]
     },
     "execution_count": 136,
     "metadata": {},
     "output_type": "execute_result"
    }
   ],
   "source": [
    "# Симметрическая разность, A Δ B \n",
    "Z=symdiff(A,B)"
   ]
  },
  {
   "cell_type": "code",
   "execution_count": 137,
   "id": "e1e868e3",
   "metadata": {},
   "outputs": [
    {
     "data": {
      "text/plain": [
       "false"
      ]
     },
     "execution_count": 137,
     "metadata": {},
     "output_type": "execute_result"
    }
   ],
   "source": [
    "# Проверка включения, A ⊆ B\n",
    "issubset(A, B)"
   ]
  },
  {
   "cell_type": "code",
   "execution_count": 138,
   "id": "ea1b5ab2",
   "metadata": {},
   "outputs": [
    {
     "data": {
      "text/plain": [
       "5-element Vector{Int64}:\n",
       " 2\n",
       " 9\n",
       " 8\n",
       " 3\n",
       " 1"
      ]
     },
     "execution_count": 138,
     "metadata": {},
     "output_type": "execute_result"
    }
   ],
   "source": [
    "# Преобразовать в массив\n",
    "B = collect(A)"
   ]
  },
  {
   "cell_type": "code",
   "execution_count": 139,
   "id": "ea647cbb",
   "metadata": {},
   "outputs": [
    {
     "data": {
      "text/plain": [
       "BitSet with 3 elements:\n",
       "  2\n",
       "  3\n",
       "  10"
      ]
     },
     "execution_count": 139,
     "metadata": {},
     "output_type": "execute_result"
    }
   ],
   "source": [
    "# Создать упорядоченное множество (только для целых)\n",
    "A = BitSet([10,2,3])"
   ]
  },
  {
   "cell_type": "markdown",
   "id": "10bacc0b",
   "metadata": {},
   "source": [
    "## 5. Словарь\n",
    "\n",
    "Словарь - ассоциативная коллекция для хранения данных, доступных по ключу\n",
    "\n",
    "Широко используются в Julia для организации сложных структур данных"
   ]
  },
  {
   "cell_type": "markdown",
   "id": "a772a6f5",
   "metadata": {},
   "source": [
    " ### 5.1. Создание Словаря"
   ]
  },
  {
   "cell_type": "code",
   "execution_count": 140,
   "id": "f9616671",
   "metadata": {},
   "outputs": [
    {
     "data": {
      "text/plain": [
       "Dict{String, Int64} with 2 entries:\n",
       "  \"Долгота\" => 50\n",
       "  \"Широта\"  => 61"
      ]
     },
     "execution_count": 140,
     "metadata": {},
     "output_type": "execute_result"
    }
   ],
   "source": [
    "# Словарь с двумя парами ключ->значение\n",
    "Coord = Dict(\"Широта\" => 61, \"Долгота\" => 50) "
   ]
  },
  {
   "cell_type": "code",
   "execution_count": 141,
   "id": "0ae24de6",
   "metadata": {},
   "outputs": [
    {
     "data": {
      "text/plain": [
       "Dict{Any, Any} with 5 entries:\n",
       "  [1.8, 0.428571] => 244267\n",
       "  \"Наименование\"  => \"ИСЭиЭПС\"\n",
       "  \"Расположение\"  => Dict(\"Долгота\"=>50, \"Широта\"=>61)\n",
       "  \"Подразделения\" => [\"Отдел региональных исследований\", \"Отдел социально-эконо…\n",
       "  \"Численность\"   => 81"
      ]
     },
     "execution_count": 141,
     "metadata": {},
     "output_type": "execute_result"
    }
   ],
   "source": [
    "# Ключами и значениями могут быть строки, числа, массивы, словари и т.п.\n",
    "Inst = Dict(\"Наименование\"  => \"ИСЭиЭПС\", \n",
    "            \"Численность\"   => 81,\n",
    "            \"Расположение\"  => Coord, \n",
    "            \"Подразделения\" => [\"Отдел региональных исследований\" \n",
    "                                \"Отдел социально-экономических проблем\"\n",
    "                                \"Отдел энергетики\"\n",
    "                                \"Лаборатория проблем транспорта\"],\n",
    "            [1.8, 3//7]     => 244267    \n",
    "  ) "
   ]
  },
  {
   "cell_type": "code",
   "execution_count": 142,
   "id": "40645e6b",
   "metadata": {},
   "outputs": [
    {
     "data": {
      "text/plain": [
       "Dict{String, Float64} with 2 entries:\n",
       "  \"x\" => 9.76\n",
       "  \"y\" => -8.54"
      ]
     },
     "execution_count": 142,
     "metadata": {},
     "output_type": "execute_result"
    }
   ],
   "source": [
    "# При создании однородных словарей можно указать типы ключей и значений явно\n",
    "point = Dict{String, Float64}(\"x\" => 9.76, \"y\" => -8.54)"
   ]
  },
  {
   "cell_type": "code",
   "execution_count": 143,
   "id": "96232a75",
   "metadata": {},
   "outputs": [
    {
     "data": {
      "text/plain": [
       "Dict{Any, Any}()"
      ]
     },
     "execution_count": 143,
     "metadata": {},
     "output_type": "execute_result"
    }
   ],
   "source": [
    "# Создать пустой словарь\n",
    "A = Dict()"
   ]
  },
  {
   "cell_type": "code",
   "execution_count": 144,
   "id": "47d47a1e",
   "metadata": {},
   "outputs": [
    {
     "data": {
      "text/plain": [
       "Dict{Int64, Int64} with 10 entries:\n",
       "  5  => 25\n",
       "  4  => 16\n",
       "  6  => 36\n",
       "  7  => 49\n",
       "  2  => 4\n",
       "  10 => 100\n",
       "  9  => 81\n",
       "  8  => 64\n",
       "  3  => 9\n",
       "  1  => 1"
      ]
     },
     "execution_count": 144,
     "metadata": {},
     "output_type": "execute_result"
    }
   ],
   "source": [
    "# Использование генераторов\n",
    "A = Dict(x => x^2 for x=1:10)"
   ]
  },
  {
   "cell_type": "markdown",
   "id": "97d46aab",
   "metadata": {},
   "source": [
    "### 5.2. Доступ к данным словаря \n",
    "#### по ключу"
   ]
  },
  {
   "cell_type": "code",
   "execution_count": 145,
   "id": "86ac7e12",
   "metadata": {},
   "outputs": [
    {
     "data": {
      "text/plain": [
       "Dict{String, Int64} with 2 entries:\n",
       "  \"Долгота\" => 50\n",
       "  \"Широта\"  => 61"
      ]
     },
     "execution_count": 145,
     "metadata": {},
     "output_type": "execute_result"
    }
   ],
   "source": [
    "Inst[\"Расположение\"]"
   ]
  },
  {
   "cell_type": "code",
   "execution_count": 146,
   "id": "969a9a41",
   "metadata": {},
   "outputs": [
    {
     "data": {
      "text/plain": [
       "50"
      ]
     },
     "execution_count": 146,
     "metadata": {},
     "output_type": "execute_result"
    }
   ],
   "source": [
    "Inst[\"Расположение\"][\"Долгота\"]"
   ]
  },
  {
   "cell_type": "code",
   "execution_count": 147,
   "id": "b38e105b",
   "metadata": {},
   "outputs": [
    {
     "ename": "LoadError",
     "evalue": "KeyError: key \"Тел\" not found",
     "output_type": "error",
     "traceback": [
      "KeyError: key \"Тел\" not found",
      "",
      "Stacktrace:",
      " [1] getindex(h::Dict{Any, Any}, key::String)",
      "   @ Base ./dict.jl:481",
      " [2] top-level scope",
      "   @ In[147]:1",
      " [3] eval",
      "   @ ./boot.jl:373 [inlined]",
      " [4] include_string(mapexpr::typeof(REPL.softscope), mod::Module, code::String, filename::String)",
      "   @ Base ./loading.jl:1196"
     ]
    }
   ],
   "source": [
    "Inst[\"Тел\"]    # Упс... такого ключа нет"
   ]
  },
  {
   "cell_type": "code",
   "execution_count": 148,
   "id": "d88486df",
   "metadata": {},
   "outputs": [
    {
     "data": {
      "text/plain": [
       "false"
      ]
     },
     "execution_count": 148,
     "metadata": {},
     "output_type": "execute_result"
    }
   ],
   "source": [
    "# Используйте haskey для проверки наличия ключа \n",
    "haskey(Inst, \"Тел\")"
   ]
  },
  {
   "cell_type": "code",
   "execution_count": 149,
   "id": "680f0219",
   "metadata": {},
   "outputs": [
    {
     "data": {
      "text/plain": [
       "true"
      ]
     },
     "execution_count": 149,
     "metadata": {},
     "output_type": "execute_result"
    }
   ],
   "source": [
    "# Используйте in для проверки вхождения пары ключ-значение в словарь\n",
    "in(\"Численность\" => 81, Inst)  "
   ]
  },
  {
   "cell_type": "code",
   "execution_count": 150,
   "id": "45d52630",
   "metadata": {},
   "outputs": [
    {
     "data": {
      "text/plain": [
       "true"
      ]
     },
     "execution_count": 150,
     "metadata": {},
     "output_type": "execute_result"
    }
   ],
   "source": [
    "# или так \n",
    "Pair(\"Численность\", 81) in Inst"
   ]
  },
  {
   "cell_type": "code",
   "execution_count": 151,
   "id": "f8d3c8e0",
   "metadata": {},
   "outputs": [
    {
     "data": {
      "text/plain": [
       "\"Численность\" => 81"
      ]
     },
     "execution_count": 151,
     "metadata": {},
     "output_type": "execute_result"
    }
   ],
   "source": [
    "Pair(\"Численность\", 81)"
   ]
  },
  {
   "cell_type": "markdown",
   "id": "fa86a086",
   "metadata": {},
   "source": [
    "#### с помощью функции `get`"
   ]
  },
  {
   "cell_type": "code",
   "execution_count": 152,
   "id": "745be1a4",
   "metadata": {},
   "outputs": [
    {
     "data": {
      "text/plain": [
       "Dict{String, Int64} with 2 entries:\n",
       "  \"Долгота\" => 50\n",
       "  \"Широта\"  => 61"
      ]
     },
     "execution_count": 152,
     "metadata": {},
     "output_type": "execute_result"
    }
   ],
   "source": [
    "# для безопасного доступа используйте функцию get, возвращающую в случае отсутствия ключа назначенное значение\n",
    "get(Inst, \"Расположение\", \"Засекречено\")"
   ]
  },
  {
   "cell_type": "code",
   "execution_count": 153,
   "id": "45b5ce2c",
   "metadata": {},
   "outputs": [
    {
     "data": {
      "text/plain": [
       "Dict{Any, Any} with 6 entries:\n",
       "  [1.8, 0.428571] => 244267\n",
       "  \"Наименование\"  => \"ИСЭиЭПС\"\n",
       "  \"Расположение\"  => Dict(\"Долгота\"=>50, \"Широта\"=>61)\n",
       "  \"Тел\"           => \"Засекречено\"\n",
       "  \"Подразделения\" => [\"Отдел региональных исследований\", \"Отдел социально-эконо…\n",
       "  \"Численность\"   => 81"
      ]
     },
     "execution_count": 153,
     "metadata": {},
     "output_type": "execute_result"
    }
   ],
   "source": [
    "get!(Inst, \"Тел\", \"Засекречено\") # ! при отсутствии добавляет в словарь\n",
    "Inst"
   ]
  },
  {
   "cell_type": "markdown",
   "id": "489d6c4b",
   "metadata": {},
   "source": [
    "#### при итерировании\n"
   ]
  },
  {
   "cell_type": "code",
   "execution_count": 154,
   "id": "481b4a3b",
   "metadata": {},
   "outputs": [
    {
     "name": "stdout",
     "output_type": "stream",
     "text": [
      "Значение x равно 9.76\n",
      "Значение y равно -8.54\n"
     ]
    }
   ],
   "source": [
    "for pair in point\n",
    "    println(\"Значение $(pair[1]) равно $(pair[2])\")\n",
    "end"
   ]
  },
  {
   "cell_type": "code",
   "execution_count": 155,
   "id": "d568b141",
   "metadata": {},
   "outputs": [
    {
     "name": "stdout",
     "output_type": "stream",
     "text": [
      "Значение x равно 9.76\n",
      "Значение y равно -8.54\n"
     ]
    }
   ],
   "source": [
    "for k in keys(point)\n",
    "    println(\"Значение $k равно $(point[k])\")\n",
    "end"
   ]
  },
  {
   "cell_type": "code",
   "execution_count": 156,
   "id": "cfa330d6",
   "metadata": {},
   "outputs": [
    {
     "name": "stdout",
     "output_type": "stream",
     "text": [
      "Значение x равно 9.76\n",
      "Значение y равно -8.54\n"
     ]
    }
   ],
   "source": [
    "for (k,v) in point\n",
    "    println(\"Значение $k равно $v\")\n",
    "end"
   ]
  },
  {
   "cell_type": "markdown",
   "id": "86d95838",
   "metadata": {},
   "source": [
    "### 2.3. Добавление/удаление пары ключ-значение, объединение"
   ]
  },
  {
   "cell_type": "code",
   "execution_count": 157,
   "id": "b07fe206",
   "metadata": {},
   "outputs": [
    {
     "data": {
      "text/plain": [
       "Dict{String, Float64} with 3 entries:\n",
       "  \"x\" => 9.76\n",
       "  \"z\" => 3.3\n",
       "  \"y\" => -8.54"
      ]
     },
     "execution_count": 157,
     "metadata": {},
     "output_type": "execute_result"
    }
   ],
   "source": [
    "# Добавление третьей координаты z\n",
    "point[\"z\"]=3.3\n",
    "point"
   ]
  },
  {
   "cell_type": "code",
   "execution_count": 158,
   "id": "31c0815f",
   "metadata": {},
   "outputs": [
    {
     "data": {
      "text/plain": [
       "Dict{String, Float64} with 4 entries:\n",
       "  \"vol\" => 2.0\n",
       "  \"x\"   => 9.76\n",
       "  \"z\"   => 3.3\n",
       "  \"y\"   => -8.54"
      ]
     },
     "execution_count": 158,
     "metadata": {},
     "output_type": "execute_result"
    }
   ],
   "source": [
    "# или с помощью функции get! \n",
    "get!(point, \"vol\", 2.0)\n",
    "point"
   ]
  },
  {
   "cell_type": "code",
   "execution_count": 159,
   "id": "8b2b72e3",
   "metadata": {},
   "outputs": [
    {
     "data": {
      "text/plain": [
       "Dict{String, Float64} with 3 entries:\n",
       "  \"x\" => 9.76\n",
       "  \"z\" => 3.3\n",
       "  \"y\" => -8.54"
      ]
     },
     "execution_count": 159,
     "metadata": {},
     "output_type": "execute_result"
    }
   ],
   "source": [
    "# Удаление \n",
    "delete!(point, \"vol\")\n",
    "point"
   ]
  },
  {
   "cell_type": "code",
   "execution_count": 160,
   "id": "73e4ca0f",
   "metadata": {},
   "outputs": [
    {
     "data": {
      "text/plain": [
       "Dict{String, Int64} with 4 entries:\n",
       "  \"c\" => 3\n",
       "  \"b\" => 2\n",
       "  \"a\" => 1\n",
       "  \"d\" => 4"
      ]
     },
     "execution_count": 160,
     "metadata": {},
     "output_type": "execute_result"
    }
   ],
   "source": [
    "# Объединить два словаря\n",
    "d1 = Dict(\"a\"=>1, \"b\"=>2)\n",
    "d2 = Dict(\"c\"=>3, \"d\"=>4)\n",
    "\n",
    "d = merge(d1,d2) "
   ]
  },
  {
   "cell_type": "markdown",
   "id": "e1b7e4d5",
   "metadata": {},
   "source": [
    "## 6. Пример\n",
    "\n",
    "Граф, или неориентированный граф $G$ — это упорядоченная пара $G := (V, E)$, где $V$ — это непустое множество вершин или узлов, а $E$ — множество пар вершин, называемых рёбрами. \n",
    "\n",
    "Рассмотрим граф с заданными множеством вершин _vertices_ и множеством ребер _edges_\n",
    "\n",
    "<img src=\"graph.png\" />"
   ]
  },
  {
   "cell_type": "code",
   "execution_count": 161,
   "id": "7233e7ea",
   "metadata": {},
   "outputs": [
    {
     "data": {
      "text/plain": [
       "Dict{String, Set} with 2 entries:\n",
       "  \"V\" => Set([5, 4, 2, 3, 1])\n",
       "  \"E\" => Set([(1, 2), (3, 1), (1, 4), (2, 3)])"
      ]
     },
     "execution_count": 161,
     "metadata": {},
     "output_type": "execute_result"
    }
   ],
   "source": [
    "# Создадим граф\n",
    "vertices = Set([1,2,3,4,5])             # множество вершин графа\n",
    "edges = Set([(1,2),(2,3),(3,1),(1,4)])  # множество ребер графа\n",
    "\n",
    "G = Dict(\"V\"=>vertices, \"E\"=>edges)     # граф G"
   ]
  },
  {
   "cell_type": "code",
   "execution_count": 162,
   "id": "25c01831",
   "metadata": {},
   "outputs": [
    {
     "name": "stdout",
     "output_type": "stream",
     "text": [
      "(1, 2)\n",
      "(3, 1)\n",
      "(1, 4)\n",
      "(2, 3)\n"
     ]
    }
   ],
   "source": [
    "# Список ребер\n",
    "for e in G[\"E\"]\n",
    "    println(e)\n",
    "end"
   ]
  },
  {
   "cell_type": "code",
   "execution_count": 163,
   "id": "3c032c58",
   "metadata": {},
   "outputs": [
    {
     "name": "stdout",
     "output_type": "stream",
     "text": [
      "(2, 4)\n",
      "(1, 2)\n",
      "(3, 1)\n",
      "(1, 4)\n",
      "(2, 3)\n"
     ]
    }
   ],
   "source": [
    "# Добавим новое ребро\n",
    "push!(G[\"E\"], (2, 4))\n",
    "\n",
    "for e in G[\"E\"] \n",
    "    println(e) \n",
    "end"
   ]
  },
  {
   "cell_type": "code",
   "execution_count": 164,
   "id": "8f91c8b8",
   "metadata": {},
   "outputs": [
    {
     "data": {
      "text/plain": [
       "5-element Vector{Int64}:\n",
       " 3\n",
       " 3\n",
       " 2\n",
       " 2\n",
       " 0"
      ]
     },
     "execution_count": 164,
     "metadata": {},
     "output_type": "execute_result"
    }
   ],
   "source": [
    "# Вычислим валентность (степень) узлов\n",
    "deg = zeros(Int64, length(G[\"V\"]))  # нулевой вектор\n",
    "\n",
    "for e in G[\"E\"]\n",
    "    deg[e[1]] += 1\n",
    "    deg[e[2]] += 1\n",
    "end\n",
    "\n",
    "deg"
   ]
  },
  {
   "cell_type": "code",
   "execution_count": 165,
   "id": "57836c47",
   "metadata": {},
   "outputs": [
    {
     "data": {
      "text/plain": [
       "5×5 Matrix{Int64}:\n",
       " 0  1  1  1  0\n",
       " 1  0  1  1  0\n",
       " 1  1  0  0  0\n",
       " 1  1  0  0  0\n",
       " 0  0  0  0  0"
      ]
     },
     "execution_count": 165,
     "metadata": {},
     "output_type": "execute_result"
    }
   ],
   "source": [
    "# Построим матрицу смежности\n",
    "A = zeros(Int64, length(G[\"V\"]), length(G[\"V\"])) # нулевая матрица\n",
    "\n",
    "for (i,j) in G[\"E\"]\n",
    "    A[i,j] = 1\n",
    "    A[j,i] = 1\n",
    "end\n",
    "A\n"
   ]
  },
  {
   "cell_type": "code",
   "execution_count": 166,
   "id": "d86cef2b",
   "metadata": {},
   "outputs": [
    {
     "data": {
      "text/plain": [
       "5×5 SparseMatrixCSC{Int64, Int64} with 10 stored entries:\n",
       " ⋅  1  1  1  ⋅\n",
       " 1  ⋅  1  1  ⋅\n",
       " 1  1  ⋅  ⋅  ⋅\n",
       " 1  1  ⋅  ⋅  ⋅\n",
       " ⋅  ⋅  ⋅  ⋅  ⋅"
      ]
     },
     "execution_count": 166,
     "metadata": {},
     "output_type": "execute_result"
    }
   ],
   "source": [
    "# Построим разреженную матрицу смежности\n",
    "A = spzeros(Int64, length(G[\"V\"]), length(G[\"V\"])) # нулевая матрица\n",
    "\n",
    "for (i,j) in G[\"E\"]\n",
    "    A[i,j] = 1\n",
    "    A[j,i] = 1\n",
    "end\n",
    "A"
   ]
  },
  {
   "cell_type": "code",
   "execution_count": 167,
   "id": "be24f7ec",
   "metadata": {},
   "outputs": [
    {
     "data": {
      "text/plain": [
       "Dict{String, Set} with 2 entries:\n",
       "  \"V\" => Set([5, 4, 2, 3, 1])\n",
       "  \"E\" => Set([(2, 4), (1, 2), (3, 1), (1, 4), (2, 3)])"
      ]
     },
     "execution_count": 167,
     "metadata": {},
     "output_type": "execute_result"
    }
   ],
   "source": [
    "# Представление графа в виде структуры\n",
    "G"
   ]
  },
  {
   "cell_type": "code",
   "execution_count": 168,
   "id": "201099ab",
   "metadata": {},
   "outputs": [
    {
     "data": {
      "text/plain": [
       "5×5 SparseMatrixCSC{Int64, Int64} with 10 stored entries:\n",
       " ⋅  1  1  1  ⋅\n",
       " 1  ⋅  1  1  ⋅\n",
       " 1  1  ⋅  ⋅  ⋅\n",
       " 1  1  ⋅  ⋅  ⋅\n",
       " ⋅  ⋅  ⋅  ⋅  ⋅"
      ]
     },
     "execution_count": 168,
     "metadata": {},
     "output_type": "execute_result"
    }
   ],
   "source": [
    "# Представление графа в виде матрицы смежности\n",
    "A"
   ]
  },
  {
   "cell_type": "code",
   "execution_count": null,
   "id": "77928044",
   "metadata": {},
   "outputs": [],
   "source": []
  }
 ],
 "metadata": {
  "kernelspec": {
   "display_name": "Julia 1.7.2",
   "language": "julia",
   "name": "julia-1.7"
  },
  "language_info": {
   "file_extension": ".jl",
   "mimetype": "application/julia",
   "name": "julia",
   "version": "1.7.2"
  }
 },
 "nbformat": 4,
 "nbformat_minor": 5
}
