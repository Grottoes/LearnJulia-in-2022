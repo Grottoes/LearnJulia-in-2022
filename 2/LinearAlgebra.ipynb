{
 "cells": [
  {
   "cell_type": "markdown",
   "metadata": {},
   "source": [
    "# Линейная алгебра\n",
    "\n",
    "Методы линейной алгебры представлены в стандартной библиотеке [LinearAlgebra](https://docs.julialang.org/en/v1/stdlib/LinearAlgebra/)"
   ]
  },
  {
   "cell_type": "code",
   "execution_count": 1,
   "metadata": {},
   "outputs": [],
   "source": [
    "using LinearAlgebra"
   ]
  },
  {
   "cell_type": "markdown",
   "metadata": {},
   "source": [
    "## 1. Общие понятия"
   ]
  },
  {
   "cell_type": "markdown",
   "metadata": {},
   "source": [
    "### Характеристики вектора и элементарные операции"
   ]
  },
  {
   "cell_type": "code",
   "execution_count": 2,
   "metadata": {},
   "outputs": [
    {
     "data": {
      "text/plain": [
       "4-element Vector{Float64}:\n",
       "  1.1\n",
       " -2.0\n",
       "  2.7\n",
       "  9.0"
      ]
     },
     "execution_count": 2,
     "metadata": {},
     "output_type": "execute_result"
    }
   ],
   "source": [
    "a = [1.1, -2.0, 2.7, 9.0]"
   ]
  },
  {
   "cell_type": "code",
   "execution_count": 3,
   "metadata": {},
   "outputs": [
    {
     "data": {
      "text/plain": [
       "4"
      ]
     },
     "execution_count": 3,
     "metadata": {},
     "output_type": "execute_result"
    }
   ],
   "source": [
    "length(a)      # длина вектора"
   ]
  },
  {
   "cell_type": "code",
   "execution_count": 4,
   "metadata": {},
   "outputs": [
    {
     "data": {
      "text/plain": [
       "-2.0"
      ]
     },
     "execution_count": 4,
     "metadata": {},
     "output_type": "execute_result"
    }
   ],
   "source": [
    "minimum(a)     # минимальное значение, minᵢ{aᵢ}"
   ]
  },
  {
   "cell_type": "code",
   "execution_count": 5,
   "metadata": {},
   "outputs": [
    {
     "data": {
      "text/plain": [
       "9.0"
      ]
     },
     "execution_count": 5,
     "metadata": {},
     "output_type": "execute_result"
    }
   ],
   "source": [
    "maximum(a)     # максимальное значение, maxᵢ{aᵢ}"
   ]
  },
  {
   "cell_type": "code",
   "execution_count": 6,
   "metadata": {},
   "outputs": [
    {
     "data": {
      "text/plain": [
       "10.8"
      ]
     },
     "execution_count": 6,
     "metadata": {},
     "output_type": "execute_result"
    }
   ],
   "source": [
    "sum(a)         # сумма значений, ∑aᵢ"
   ]
  },
  {
   "cell_type": "code",
   "execution_count": 7,
   "metadata": {},
   "outputs": [
    {
     "data": {
      "text/plain": [
       "14.8"
      ]
     },
     "execution_count": 7,
     "metadata": {},
     "output_type": "execute_result"
    }
   ],
   "source": [
    "sum(abs,a)      # сумма абсолютных значений, ∑|aᵢ|"
   ]
  },
  {
   "cell_type": "code",
   "execution_count": 8,
   "metadata": {},
   "outputs": [
    {
     "data": {
      "text/plain": [
       "93.5"
      ]
     },
     "execution_count": 8,
     "metadata": {},
     "output_type": "execute_result"
    }
   ],
   "source": [
    "sum(abs2,a)     # сумма квадратов, ∑(aᵢ)²"
   ]
  },
  {
   "cell_type": "code",
   "execution_count": 9,
   "metadata": {},
   "outputs": [
    {
     "data": {
      "text/plain": [
       "-53.46000000000001"
      ]
     },
     "execution_count": 9,
     "metadata": {},
     "output_type": "execute_result"
    }
   ],
   "source": [
    "prod(a)        # произведение значений, ∏aᵢ"
   ]
  },
  {
   "cell_type": "code",
   "execution_count": 10,
   "metadata": {},
   "outputs": [
    {
     "data": {
      "text/plain": [
       "9.669539802906858"
      ]
     },
     "execution_count": 10,
     "metadata": {},
     "output_type": "execute_result"
    }
   ],
   "source": [
    "norm(a)        # L₂-норма (эвклидова), ‖a‖₂ = √(∑(aᵢ)²)"
   ]
  },
  {
   "cell_type": "code",
   "execution_count": 11,
   "metadata": {},
   "outputs": [
    {
     "data": {
      "text/plain": [
       "14.8"
      ]
     },
     "execution_count": 11,
     "metadata": {},
     "output_type": "execute_result"
    }
   ],
   "source": [
    "norm(a,1)      # L₁-норма,  ‖a‖₁ = ∑|aᵢ|"
   ]
  },
  {
   "cell_type": "code",
   "execution_count": 12,
   "metadata": {},
   "outputs": [
    {
     "data": {
      "text/plain": [
       "9.0"
      ]
     },
     "execution_count": 12,
     "metadata": {},
     "output_type": "execute_result"
    }
   ],
   "source": [
    "norm(a,Inf)    # L∞-норма,  ‖a‖∞ = max|aᵢ| "
   ]
  },
  {
   "cell_type": "markdown",
   "metadata": {},
   "source": [
    "### Характеристики матрицы и элементарные операции"
   ]
  },
  {
   "cell_type": "code",
   "execution_count": 13,
   "metadata": {},
   "outputs": [
    {
     "data": {
      "text/plain": [
       "3×3 Matrix{Float64}:\n",
       "  1.0  -2.0   3.0\n",
       "  4.0   5.5  -6.0\n",
       " -7.9   8.3   9.3"
      ]
     },
     "execution_count": 13,
     "metadata": {},
     "output_type": "execute_result"
    }
   ],
   "source": [
    "A = [1.0 -2.0  3.0\n",
    "     4.0  5.5 -6.0\n",
    "    -7.9  8.3  9.3]"
   ]
  },
  {
   "cell_type": "code",
   "execution_count": 14,
   "metadata": {},
   "outputs": [
    {
     "data": {
      "text/plain": [
       "3"
      ]
     },
     "execution_count": 14,
     "metadata": {},
     "output_type": "execute_result"
    }
   ],
   "source": [
    "m,n = size(A)  # число строк m и столбцов n\n",
    "m"
   ]
  },
  {
   "cell_type": "code",
   "execution_count": 15,
   "metadata": {},
   "outputs": [
    {
     "data": {
      "text/plain": [
       "3"
      ]
     },
     "execution_count": 15,
     "metadata": {},
     "output_type": "execute_result"
    }
   ],
   "source": [
    "m = size(A,1)  # число строк"
   ]
  },
  {
   "cell_type": "code",
   "execution_count": 16,
   "metadata": {},
   "outputs": [
    {
     "data": {
      "text/plain": [
       "3"
      ]
     },
     "execution_count": 16,
     "metadata": {},
     "output_type": "execute_result"
    }
   ],
   "source": [
    "rank(A)        # ранг матрицы"
   ]
  },
  {
   "cell_type": "code",
   "execution_count": 17,
   "metadata": {},
   "outputs": [
    {
     "data": {
      "text/plain": [
       "6.570490467412414"
      ]
     },
     "execution_count": 17,
     "metadata": {},
     "output_type": "execute_result"
    }
   ],
   "source": [
    "cond(A)        # число обусловленности матрицы"
   ]
  },
  {
   "cell_type": "code",
   "execution_count": 18,
   "metadata": {},
   "outputs": [
    {
     "data": {
      "text/plain": [
       "310.49999999999994"
      ]
     },
     "execution_count": 18,
     "metadata": {},
     "output_type": "execute_result"
    }
   ],
   "source": [
    "det(A)         # определитель квадратной матрицы, |A|"
   ]
  },
  {
   "cell_type": "code",
   "execution_count": 19,
   "metadata": {},
   "outputs": [
    {
     "data": {
      "text/plain": [
       "5.738183901373533"
      ]
     },
     "execution_count": 19,
     "metadata": {},
     "output_type": "execute_result"
    }
   ],
   "source": [
    "logdet(A)      # логарифм определителя квадратной матрицы"
   ]
  },
  {
   "cell_type": "code",
   "execution_count": 20,
   "metadata": {},
   "outputs": [
    {
     "data": {
      "text/plain": [
       "(5.738183901373533, 1.0)"
      ]
     },
     "execution_count": 20,
     "metadata": {},
     "output_type": "execute_result"
    }
   ],
   "source": [
    "logabsdet(A)   # логарифм определителя модуля квадратной матрицы"
   ]
  },
  {
   "cell_type": "code",
   "execution_count": 21,
   "metadata": {},
   "outputs": [
    {
     "data": {
      "text/plain": [
       "15.8"
      ]
     },
     "execution_count": 21,
     "metadata": {},
     "output_type": "execute_result"
    }
   ],
   "source": [
    "tr(A)          # след квадратной матрицы"
   ]
  },
  {
   "cell_type": "code",
   "execution_count": 22,
   "metadata": {},
   "outputs": [
    {
     "data": {
      "text/plain": [
       "3-element Vector{ComplexF64}:\n",
       " 2.7946685718278133 + 0.0im\n",
       " 6.5026657140860955 - 8.295766848358976im\n",
       " 6.5026657140860955 + 8.295766848358976im"
      ]
     },
     "execution_count": 22,
     "metadata": {},
     "output_type": "execute_result"
    }
   ],
   "source": [
    "eigvals(A)     # собственные значения λᵢ квадратной матрицы"
   ]
  },
  {
   "cell_type": "code",
   "execution_count": 23,
   "metadata": {},
   "outputs": [
    {
     "data": {
      "text/plain": [
       "3-element Vector{Float64}:\n",
       " 15.168918644202487\n",
       "  8.866457769882864\n",
       "  2.3086432770027745"
      ]
     },
     "execution_count": 23,
     "metadata": {},
     "output_type": "execute_result"
    }
   ],
   "source": [
    "svdvals(A)      # сингулярные числа σᵢ матрицы "
   ]
  },
  {
   "cell_type": "code",
   "execution_count": 24,
   "metadata": {},
   "outputs": [
    {
     "data": {
      "text/plain": [
       "17.72117377602285"
      ]
     },
     "execution_count": 24,
     "metadata": {},
     "output_type": "execute_result"
    }
   ],
   "source": [
    "norm(A)        # Норма Фробениуса, эвклидовая ‖A‖_F = √(∑ᵢ∑ⱼ(aᵢⱼ)²) "
   ]
  },
  {
   "cell_type": "code",
   "execution_count": 25,
   "metadata": {},
   "outputs": [
    {
     "data": {
      "text/plain": [
       "15.168918644202487"
      ]
     },
     "execution_count": 25,
     "metadata": {},
     "output_type": "execute_result"
    }
   ],
   "source": [
    "opnorm(A)      # Спектральная (L₂-норма) ‖A‖₂ = maxᵢσᵢ"
   ]
  },
  {
   "cell_type": "code",
   "execution_count": 26,
   "metadata": {},
   "outputs": [
    {
     "data": {
      "text/plain": [
       "18.3"
      ]
     },
     "execution_count": 26,
     "metadata": {},
     "output_type": "execute_result"
    }
   ],
   "source": [
    "opnorm(A,1)      # Столбцовая (L₁-норма) ‖A‖₁ = maxⱼ∑ᵢ|aᵢⱼ|"
   ]
  },
  {
   "cell_type": "code",
   "execution_count": 27,
   "metadata": {},
   "outputs": [
    {
     "data": {
      "text/plain": [
       "25.500000000000004"
      ]
     },
     "execution_count": 27,
     "metadata": {},
     "output_type": "execute_result"
    }
   ],
   "source": [
    "opnorm(A,Inf)    # Строчная, бесконечная (L∞-норма) ‖A‖∞ = maxⱼ∑ᵢ|aᵢⱼ|"
   ]
  },
  {
   "cell_type": "code",
   "execution_count": 28,
   "metadata": {},
   "outputs": [
    {
     "data": {
      "text/plain": [
       "-7.9"
      ]
     },
     "execution_count": 28,
     "metadata": {},
     "output_type": "execute_result"
    }
   ],
   "source": [
    "minimum(A)     # минимальный элемент"
   ]
  },
  {
   "cell_type": "code",
   "execution_count": 29,
   "metadata": {},
   "outputs": [
    {
     "data": {
      "text/plain": [
       "9.3"
      ]
     },
     "execution_count": 29,
     "metadata": {},
     "output_type": "execute_result"
    }
   ],
   "source": [
    "maximum(A)     # максимальный элемент"
   ]
  },
  {
   "cell_type": "code",
   "execution_count": 30,
   "metadata": {},
   "outputs": [
    {
     "data": {
      "text/plain": [
       "1×3 Matrix{Float64}:\n",
       " -7.9  -2.0  -6.0"
      ]
     },
     "execution_count": 30,
     "metadata": {},
     "output_type": "execute_result"
    }
   ],
   "source": [
    "minimum(A,dims=1)   # минимальные элементы в столбцах"
   ]
  },
  {
   "cell_type": "code",
   "execution_count": 31,
   "metadata": {},
   "outputs": [
    {
     "data": {
      "text/plain": [
       "47.0"
      ]
     },
     "execution_count": 31,
     "metadata": {},
     "output_type": "execute_result"
    }
   ],
   "source": [
    "sum(abs,A)          # суммирование модулей значений"
   ]
  },
  {
   "cell_type": "code",
   "execution_count": 32,
   "metadata": {},
   "outputs": [
    {
     "data": {
      "text/plain": [
       "1×3 Matrix{Float64}:\n",
       " -2.9  11.8  6.3"
      ]
     },
     "execution_count": 32,
     "metadata": {},
     "output_type": "execute_result"
    }
   ],
   "source": [
    "sum(A,dims=1)       # суммирование значений в столбцах"
   ]
  },
  {
   "cell_type": "code",
   "execution_count": 33,
   "metadata": {},
   "outputs": [
    {
     "data": {
      "text/plain": [
       "1×3 Matrix{Float64}:\n",
       " -31.6  -91.3  -167.4"
      ]
     },
     "execution_count": 33,
     "metadata": {},
     "output_type": "execute_result"
    }
   ],
   "source": [
    "prod(A,dims=1)      # произведение значений в столбцах"
   ]
  },
  {
   "cell_type": "markdown",
   "metadata": {},
   "source": [
    "### Операции над векторами и матрицами"
   ]
  },
  {
   "cell_type": "code",
   "execution_count": 34,
   "metadata": {},
   "outputs": [
    {
     "data": {
      "text/plain": [
       "1×4 adjoint(::Vector{Float64}) with eltype Float64:\n",
       " 1.3  4.2  6.2  -3.1"
      ]
     },
     "execution_count": 34,
     "metadata": {},
     "output_type": "execute_result"
    }
   ],
   "source": [
    "a = [1.3, 4.2, 6.2, -3.1]\n",
    "\n",
    "b = a'     # транспонирование вектора или transpose(a)"
   ]
  },
  {
   "cell_type": "code",
   "execution_count": 35,
   "metadata": {},
   "outputs": [
    {
     "data": {
      "text/plain": [
       "3×3 adjoint(::Matrix{Float64}) with eltype Float64:\n",
       "  1.0   4.0  -7.9\n",
       " -2.0   5.5   8.3\n",
       "  3.0  -6.0   9.3"
      ]
     },
     "execution_count": 35,
     "metadata": {},
     "output_type": "execute_result"
    }
   ],
   "source": [
    "B = A'     # транспонирование матрицы или transpose(A)"
   ]
  },
  {
   "cell_type": "code",
   "execution_count": 36,
   "metadata": {},
   "outputs": [
    {
     "data": {
      "text/plain": [
       "4-element Vector{Float64}:\n",
       "   6.5\n",
       "  21.0\n",
       "  31.0\n",
       " -15.5"
      ]
     },
     "execution_count": 36,
     "metadata": {},
     "output_type": "execute_result"
    }
   ],
   "source": [
    "b = 5*a   # умножение вектора на скаляр"
   ]
  },
  {
   "cell_type": "code",
   "execution_count": 37,
   "metadata": {},
   "outputs": [
    {
     "data": {
      "text/plain": [
       "3×3 Matrix{Float64}:\n",
       "   5.0  -10.0   15.0\n",
       "  20.0   27.5  -30.0\n",
       " -39.5   41.5   46.5"
      ]
     },
     "execution_count": 37,
     "metadata": {},
     "output_type": "execute_result"
    }
   ],
   "source": [
    "B = 5A      # умножение матрицы на скаляр"
   ]
  },
  {
   "cell_type": "code",
   "execution_count": 38,
   "metadata": {},
   "outputs": [
    {
     "data": {
      "text/plain": [
       "4-element Vector{Float64}:\n",
       "  1.6\n",
       " -0.09999999999999964\n",
       "  8.4\n",
       "  0.0"
      ]
     },
     "execution_count": 38,
     "metadata": {},
     "output_type": "execute_result"
    }
   ],
   "source": [
    "a = [0.3, -4.3, 2.2, 3.1]\n",
    "b = [1.3, 4.2, 6.2, -3.1]\n",
    "\n",
    "c = a + b   # сложение векторов"
   ]
  },
  {
   "cell_type": "code",
   "execution_count": 39,
   "metadata": {},
   "outputs": [
    {
     "data": {
      "text/plain": [
       "3×3 Matrix{Float64}:\n",
       "   6.0  -12.0   18.0\n",
       "  24.0   33.0  -36.0\n",
       " -47.4   49.8   55.8"
      ]
     },
     "execution_count": 39,
     "metadata": {},
     "output_type": "execute_result"
    }
   ],
   "source": [
    "C = A + B   # сложение матриц"
   ]
  },
  {
   "cell_type": "code",
   "execution_count": 40,
   "metadata": {},
   "outputs": [
    {
     "data": {
      "text/plain": [
       "-13.64"
      ]
     },
     "execution_count": 40,
     "metadata": {},
     "output_type": "execute_result"
    }
   ],
   "source": [
    "c = a' * b  # скалярное произведение векторов, или c = dot(a,b)"
   ]
  },
  {
   "cell_type": "code",
   "execution_count": 41,
   "metadata": {},
   "outputs": [
    {
     "data": {
      "text/plain": [
       "3×3 Matrix{Float64}:\n",
       " -153.5     59.5    214.5\n",
       "  367.0   -137.75  -384.0\n",
       " -240.85   693.2     64.95"
      ]
     },
     "execution_count": 41,
     "metadata": {},
     "output_type": "execute_result"
    }
   ],
   "source": [
    "C = A * B   # матричное произведение"
   ]
  },
  {
   "cell_type": "code",
   "execution_count": 42,
   "metadata": {},
   "outputs": [
    {
     "data": {
      "text/plain": [
       "3-element Vector{Float64}:\n",
       " 11.5\n",
       " -8.9\n",
       " 82.25000000000001"
      ]
     },
     "execution_count": 42,
     "metadata": {},
     "output_type": "execute_result"
    }
   ],
   "source": [
    "c = A * b[1:3]    # умножение матрицы на вектор"
   ]
  },
  {
   "cell_type": "code",
   "execution_count": 43,
   "metadata": {},
   "outputs": [
    {
     "data": {
      "text/plain": [
       "4-element Vector{Float64}:\n",
       "   0.39\n",
       " -18.06\n",
       "  13.640000000000002\n",
       "  -9.610000000000001"
      ]
     },
     "execution_count": 43,
     "metadata": {},
     "output_type": "execute_result"
    }
   ],
   "source": [
    "c = a .* b  # покоординатное умножение векторов"
   ]
  },
  {
   "cell_type": "code",
   "execution_count": 44,
   "metadata": {},
   "outputs": [
    {
     "data": {
      "text/plain": [
       "3×3 Matrix{Float64}:\n",
       "   5.0    20.0    45.0\n",
       "  80.0   151.25  180.0\n",
       " 312.05  344.45  432.45"
      ]
     },
     "execution_count": 44,
     "metadata": {},
     "output_type": "execute_result"
    }
   ],
   "source": [
    "C = A .* B  # покоординатное умножение матриц"
   ]
  },
  {
   "cell_type": "code",
   "execution_count": 45,
   "metadata": {},
   "outputs": [
    {
     "data": {
      "text/plain": [
       "4-element Vector{Float64}:\n",
       " 0.29552020666133955\n",
       " 0.9161659367494549\n",
       " 0.8084964038195901\n",
       " 0.04158066243329049"
      ]
     },
     "execution_count": 45,
     "metadata": {},
     "output_type": "execute_result"
    }
   ],
   "source": [
    "c = sin.(a)   # применение функции sin (или любой др) к элементам вектора a (аналогично для матрицы)"
   ]
  },
  {
   "cell_type": "code",
   "execution_count": 46,
   "metadata": {},
   "outputs": [
    {
     "data": {
      "text/plain": [
       "3-element Vector{Float64}:\n",
       " 1.0\n",
       " 5.5\n",
       " 9.3"
      ]
     },
     "execution_count": 46,
     "metadata": {},
     "output_type": "execute_result"
    }
   ],
   "source": [
    "diag(A)       # извлечь главную диагональ матрицы"
   ]
  },
  {
   "cell_type": "code",
   "execution_count": 47,
   "metadata": {},
   "outputs": [
    {
     "data": {
      "text/plain": [
       "2-element Vector{Float64}:\n",
       " -2.0\n",
       " -6.0"
      ]
     },
     "execution_count": 47,
     "metadata": {},
     "output_type": "execute_result"
    }
   ],
   "source": [
    "diag(A,1)     # извлечь первую наддиагональ"
   ]
  },
  {
   "cell_type": "code",
   "execution_count": 48,
   "metadata": {},
   "outputs": [
    {
     "data": {
      "text/plain": [
       "3×3 Matrix{Float64}:\n",
       "  1.0  0.0  0.0\n",
       "  4.0  5.5  0.0\n",
       " -7.9  8.3  9.3"
      ]
     },
     "execution_count": 48,
     "metadata": {},
     "output_type": "execute_result"
    }
   ],
   "source": [
    "tril(A)       # извлечь нижнюю треугольную подматрицу"
   ]
  },
  {
   "cell_type": "code",
   "execution_count": 49,
   "metadata": {},
   "outputs": [
    {
     "data": {
      "text/plain": [
       "3×3 Matrix{Float64}:\n",
       " 1.0  -2.0   3.0\n",
       " 0.0   5.5  -6.0\n",
       " 0.0   0.0   9.3"
      ]
     },
     "execution_count": 49,
     "metadata": {},
     "output_type": "execute_result"
    }
   ],
   "source": [
    "triu(A)       # извлечь верхнюю треугольную подматрицу"
   ]
  },
  {
   "cell_type": "code",
   "execution_count": 50,
   "metadata": {},
   "outputs": [
    {
     "data": {
      "text/plain": [
       "3×3 Matrix{Int64}:\n",
       " 1  0  0\n",
       " 0  2  0\n",
       " 0  0  3"
      ]
     },
     "execution_count": 50,
     "metadata": {},
     "output_type": "execute_result"
    }
   ],
   "source": [
    "diagm(0=>[1,2,3])  # построить матрицу разместив вектор на главной диагонали"
   ]
  },
  {
   "cell_type": "code",
   "execution_count": 51,
   "metadata": {},
   "outputs": [
    {
     "data": {
      "text/plain": [
       "4×4 Matrix{Int64}:\n",
       " 0  0  0  0\n",
       " 1  0  0  0\n",
       " 0  2  0  0\n",
       " 0  0  3  0"
      ]
     },
     "execution_count": 51,
     "metadata": {},
     "output_type": "execute_result"
    }
   ],
   "source": [
    "diagm(-1=>[1,2,3])  # построить матрицу разместив вектор на 1й поддиагонали"
   ]
  },
  {
   "cell_type": "code",
   "execution_count": 52,
   "metadata": {},
   "outputs": [
    {
     "data": {
      "text/plain": [
       "3×3 Diagonal{Int64, Vector{Int64}}:\n",
       " 1  ⋅  ⋅\n",
       " ⋅  2  ⋅\n",
       " ⋅  ⋅  3"
      ]
     },
     "execution_count": 52,
     "metadata": {},
     "output_type": "execute_result"
    }
   ],
   "source": [
    "Diagonal([1,2,3])   # создать диагональную матрицу"
   ]
  },
  {
   "cell_type": "code",
   "execution_count": 53,
   "metadata": {},
   "outputs": [
    {
     "data": {
      "text/plain": [
       "4×4 Diagonal{Bool, Vector{Bool}}:\n",
       " 1  ⋅  ⋅  ⋅\n",
       " ⋅  1  ⋅  ⋅\n",
       " ⋅  ⋅  1  ⋅\n",
       " ⋅  ⋅  ⋅  1"
      ]
     },
     "execution_count": 53,
     "metadata": {},
     "output_type": "execute_result"
    }
   ],
   "source": [
    "I(4)               # создать единичную матрицу"
   ]
  },
  {
   "cell_type": "code",
   "execution_count": 54,
   "metadata": {},
   "outputs": [
    {
     "data": {
      "text/plain": [
       "4×4 Bidiagonal{Int64, Vector{Int64}}:\n",
       " 1  5  ⋅  ⋅\n",
       " ⋅  2  6  ⋅\n",
       " ⋅  ⋅  3  7\n",
       " ⋅  ⋅  ⋅  4"
      ]
     },
     "execution_count": 54,
     "metadata": {},
     "output_type": "execute_result"
    }
   ],
   "source": [
    "Bidiagonal([1,2,3,4], [5,6,7], :U) # создать верхнюю двухдиагнальную матрицу"
   ]
  },
  {
   "cell_type": "code",
   "execution_count": 55,
   "metadata": {},
   "outputs": [
    {
     "data": {
      "text/plain": [
       "4×4 Tridiagonal{Int64, Vector{Int64}}:\n",
       " 1  5  ⋅  ⋅\n",
       " 8  2  6  ⋅\n",
       " ⋅  9  3  7\n",
       " ⋅  ⋅  0  4"
      ]
     },
     "execution_count": 55,
     "metadata": {},
     "output_type": "execute_result"
    }
   ],
   "source": [
    "Tridiagonal([8,9,0], [1,2,3,4], [5,6,7]) # создать трехдиагнальную матрицу"
   ]
  },
  {
   "cell_type": "code",
   "execution_count": 56,
   "metadata": {},
   "outputs": [
    {
     "data": {
      "text/plain": [
       "4×4 SymTridiagonal{Int64, Vector{Int64}}:\n",
       " 1  5  ⋅  ⋅\n",
       " 5  2  6  ⋅\n",
       " ⋅  6  3  7\n",
       " ⋅  ⋅  7  4"
      ]
     },
     "execution_count": 56,
     "metadata": {},
     "output_type": "execute_result"
    }
   ],
   "source": [
    "SymTridiagonal([1,2,3,4], [5,6,7]) # создать симметричную трехдиагональную матрицу"
   ]
  },
  {
   "cell_type": "code",
   "execution_count": 57,
   "metadata": {},
   "outputs": [
    {
     "data": {
      "text/plain": [
       "3×3 Symmetric{Float64, Matrix{Float64}}:\n",
       "  1.0  -2.0   3.0\n",
       " -2.0   5.5  -6.0\n",
       "  3.0  -6.0   9.3"
      ]
     },
     "execution_count": 57,
     "metadata": {},
     "output_type": "execute_result"
    }
   ],
   "source": [
    "Symmetric(A, :U)      # симметризировать матрицу, используя верхний треугольник"
   ]
  },
  {
   "cell_type": "code",
   "execution_count": 58,
   "metadata": {},
   "outputs": [
    {
     "data": {
      "text/plain": [
       "3×3 Symmetric{Float64, Matrix{Float64}}:\n",
       "  1.0  4.0  -7.9\n",
       "  4.0  5.5   8.3\n",
       " -7.9  8.3   9.3"
      ]
     },
     "execution_count": 58,
     "metadata": {},
     "output_type": "execute_result"
    }
   ],
   "source": [
    "Symmetric(A, :L)    # симметризировать матрицу, используя нижний треугольник"
   ]
  },
  {
   "cell_type": "code",
   "execution_count": 59,
   "metadata": {},
   "outputs": [
    {
     "data": {
      "text/plain": [
       "3×3 Matrix{Float64}:\n",
       " 0.325121   0.140097   -0.0144928\n",
       " 0.0328502  0.10628     0.057971\n",
       " 0.24686    0.0241546   0.0434783"
      ]
     },
     "execution_count": 59,
     "metadata": {},
     "output_type": "execute_result"
    }
   ],
   "source": [
    "A⁻¹ = inv(A)           # обращение квадратной матрицы"
   ]
  },
  {
   "cell_type": "code",
   "execution_count": 60,
   "metadata": {},
   "outputs": [
    {
     "data": {
      "text/plain": [
       "3×4 Matrix{Float64}:\n",
       " 0.0959845    1.07857   0.572922  -0.0872398\n",
       " 0.472116     1.01798   0.351727   0.106708\n",
       " 0.00170674  -0.57584  -0.485223  -0.491664"
      ]
     },
     "execution_count": 60,
     "metadata": {},
     "output_type": "execute_result"
    }
   ],
   "source": [
    "A⁻¹ = pinv(randn(4,3)) # псевдобращение (Мура-Пенроуза) прямоугольной матрицы"
   ]
  },
  {
   "cell_type": "markdown",
   "metadata": {},
   "source": [
    "## 2. Решение систем линейных уравнений $Ax = b$"
   ]
  },
  {
   "cell_type": "code",
   "execution_count": 61,
   "metadata": {},
   "outputs": [],
   "source": [
    "#    2x1 +    x2 +   4x3 = 1\n",
    "# -3.2x1 + 4.2x2 - 1.4x3 = 2\n",
    "#  5.9x1 - 3.4x2 + 7.1x3 = 3\n",
    "\n",
    "# Матрица коэффициентов\n",
    "A = [2.0  1.0  4.0\n",
    "    -3.2  4.2  -1.4\n",
    "     5.9  -3.4  7.1]\n",
    "\n",
    "# правый столбец\n",
    "b = [1.0, 2.0, 3.0];"
   ]
  },
  {
   "cell_type": "markdown",
   "metadata": {},
   "source": [
    "### Через обратную матрицу  $x = A⁻¹ b$ \n",
    "Не рекомендуется из-за низкой эффективности"
   ]
  },
  {
   "cell_type": "code",
   "execution_count": 62,
   "metadata": {},
   "outputs": [
    {
     "data": {
      "text/plain": [
       "3-element Vector{Float64}:\n",
       " -7.89977728285079\n",
       " -3.8240534521158187\n",
       "  5.155902004454349"
      ]
     },
     "execution_count": 62,
     "metadata": {},
     "output_type": "execute_result"
    }
   ],
   "source": [
    "x = inv(A)*b "
   ]
  },
  {
   "cell_type": "markdown",
   "metadata": {},
   "source": [
    "### используя обратное деление `\\`\n",
    "В этом случае $x$ вычисляется путем факторизации матрицы $A$ и последующего решения треугольных систем"
   ]
  },
  {
   "cell_type": "code",
   "execution_count": 63,
   "metadata": {},
   "outputs": [
    {
     "data": {
      "text/plain": [
       "3-element Vector{Float64}:\n",
       " -7.89977728285079\n",
       " -3.824053452115819\n",
       "  5.155902004454349"
      ]
     },
     "execution_count": 63,
     "metadata": {},
     "output_type": "execute_result"
    }
   ],
   "source": [
    "x = A \\ b"
   ]
  },
  {
   "cell_type": "markdown",
   "metadata": {},
   "source": [
    "Иллюстрация неэффективности расчета через $A^{-1}$"
   ]
  },
  {
   "cell_type": "code",
   "execution_count": 65,
   "metadata": {},
   "outputs": [
    {
     "name": "stdout",
     "output_type": "stream",
     "text": [
      "  0.125732 seconds (30 allocations: 24.877 MiB)\n",
      "  0.027148 seconds (3.03 k allocations: 8.053 MiB, 20.95% gc time)\n"
     ]
    },
    {
     "data": {
      "text/plain": [
       "true"
      ]
     },
     "execution_count": 65,
     "metadata": {},
     "output_type": "execute_result"
    }
   ],
   "source": [
    "A1 = randn(1000,500)\n",
    "b1 = randn(1000)\n",
    "\n",
    "@time x1 = pinv(A1) * b1; # расчет через обратную матрицу\n",
    "@time x2 = A1 \\ b1        # расчет, используя обратное деление\n",
    "\n",
    "x1 ≈ x2"
   ]
  },
  {
   "cell_type": "markdown",
   "metadata": {},
   "source": [
    "### путем предварительной факторизации\n",
    "Использовать, когда, например, необходимо решить множество систем с одной матрицей $A$, но разными $b$"
   ]
  },
  {
   "cell_type": "code",
   "execution_count": 66,
   "metadata": {},
   "outputs": [
    {
     "data": {
      "text/plain": [
       "3-element Vector{Float64}:\n",
       " -7.89977728285079\n",
       " -3.824053452115819\n",
       "  5.155902004454349"
      ]
     },
     "execution_count": 66,
     "metadata": {},
     "output_type": "execute_result"
    }
   ],
   "source": [
    "F = factorize(A)\n",
    "x = F \\ b"
   ]
  },
  {
   "cell_type": "markdown",
   "metadata": {},
   "source": [
    "Пример вычисления 200 решений системы $Ax=b+\\xi$ для различных случайных векторов $\\xi$"
   ]
  },
  {
   "cell_type": "code",
   "execution_count": 67,
   "metadata": {},
   "outputs": [
    {
     "data": {
      "text/plain": [
       "test3 (generic function with 1 method)"
      ]
     },
     "execution_count": 67,
     "metadata": {},
     "output_type": "execute_result"
    }
   ],
   "source": [
    "using Random\n",
    "\n",
    "# Функция вычисления через обратную матрицу\n",
    "function test1(A,b)\n",
    "    X = Matrix{Float64}(undef, size(A,2), 200) # выделить память для результата\n",
    "    ξ = similar(b)          # выделить память под вектор ξ\n",
    "    iA = inv(A)             # вычислить заранее обратную матрицу\n",
    "    for i = 1:200\n",
    "        randn!(ξ)\n",
    "        X[:,i] = iA * (b + ξ)\n",
    "    end\n",
    "    return X\n",
    "end\n",
    "\n",
    "# Функция вычисления решением СЛАУ\n",
    "function test2(A,b)\n",
    "    X = Matrix{Float64}(undef, size(A,2), 200) \n",
    "    ξ = similar(b)\n",
    "    for i = 1:200\n",
    "        randn!(ξ)\n",
    "        X[:,i] = A \\ (b + ξ)\n",
    "    end\n",
    "    return X\n",
    "end\n",
    "\n",
    "# Функция вычисления через предварительную факторизацию\n",
    "function test3(A,b)\n",
    "    X = Matrix{Float64}(undef, size(A,2), 200) \n",
    "    ξ = similar(b)\n",
    "    F = factorize(A)           # находим заранее факторизацию\n",
    "    for i = 1:200\n",
    "        randn!(ξ)\n",
    "        X[:,i] = F \\ (b + ξ)\n",
    "    end\n",
    "    X\n",
    "end"
   ]
  },
  {
   "cell_type": "code",
   "execution_count": 69,
   "metadata": {},
   "outputs": [
    {
     "name": "stdout",
     "output_type": "stream",
     "text": [
      "  0.051970 seconds (408 allocations: 4.509 MiB)\n",
      "  0.751783 seconds (1.00 k allocations: 384.626 MiB, 22.33% gc time)\n",
      "  0.016210 seconds (607 allocations: 4.268 MiB)\n"
     ]
    }
   ],
   "source": [
    "A1 = randn(500,500)\n",
    "b1 = randn(500)\n",
    "\n",
    "@time test1(A1,b1)\n",
    "@time test2(A1,b1)\n",
    "@time test3(A1,b1);"
   ]
  },
  {
   "cell_type": "markdown",
   "metadata": {},
   "source": [
    "## 3. Факторизация матрицы"
   ]
  },
  {
   "cell_type": "markdown",
   "metadata": {},
   "source": [
    "Функция `factorize()` выполняет разложение матрицы на множители в зависимости от свойств матрицы\n",
    "\n",
    "Свойство матрицы A       | Тип разложения | Вызываемая функция\n",
    ":------------------------|:-----------------: |:---:\n",
    "Симметричная положительно-определенная|\tХолесского | `cholesky`\n",
    "Плотная симметричная     |  Банча-Кауфмана | `bunchkaufman`\n",
    "    Трехдигональная симметричная | LDLᵀ | `ldlt`\n",
    "Разреженная симметричная |  LDLᵀ | `ldlt`\n",
    "Квадратная общего вида\t| LU | `lu`\n",
    "Прямоугольная общего вида\t|QR | `qr`\n"
   ]
  },
  {
   "cell_type": "markdown",
   "metadata": {},
   "source": [
    "### 3.1. Проверка свойств матрицы \n",
    "```\n",
    "issymmetric(A)   Матрица симметричная?\n",
    "isposdef(A)      Матрица симметричная положительно-определенная?\n",
    "istril(A)        Матрица нижняя треугольная?\n",
    "istriu(A)        Матрица верхняя треугольная?\n",
    "isdiag(A)        Матрица диагональная?\n",
    "```"
   ]
  },
  {
   "cell_type": "markdown",
   "metadata": {},
   "source": [
    "### 3.2. *LU*-разложение\n",
    "\n",
    "Матрица $A$ раскладывается в произведение $A = LU$\n",
    "* $L$ - нижняя треугольная матрица  \n",
    "* $U$ - верхняя треугольная матрица"
   ]
  },
  {
   "cell_type": "code",
   "execution_count": 70,
   "metadata": {},
   "outputs": [
    {
     "data": {
      "text/plain": [
       "4×4 Matrix{Float64}:\n",
       " 11.7   5.0  -4.5  -6.4\n",
       "  2.1  -6.3   9.0  -8.5\n",
       "  6.2   0.8  -7.7  -1.4\n",
       " -0.8  -0.2   0.8   1.2"
      ]
     },
     "execution_count": 70,
     "metadata": {},
     "output_type": "execute_result"
    }
   ],
   "source": [
    "# Квадратная матрица\n",
    "A = [ 11.7  5.0  -4.5  -6.4\n",
    "      2.1  -6.3   9.0  -8.5\n",
    "      6.2   0.8  -7.7  -1.4\n",
    "     -0.8  -0.2   0.8   1.2\n",
    "    ]"
   ]
  },
  {
   "cell_type": "code",
   "execution_count": 71,
   "metadata": {},
   "outputs": [
    {
     "data": {
      "text/plain": [
       "LU{Float64, Matrix{Float64}}\n",
       "L factor:\n",
       "4×4 Matrix{Float64}:\n",
       "  1.0         0.0         0.0        0.0\n",
       "  0.179487    1.0         0.0        0.0\n",
       "  0.529915    0.256977    1.0        0.0\n",
       " -0.0683761  -0.0197126  -0.0875021  1.0\n",
       "U factor:\n",
       "4×4 Matrix{Float64}:\n",
       " 11.7   5.0      -4.5      -6.4\n",
       "  0.0  -7.19744   9.80769  -7.35128\n",
       "  0.0   0.0      -7.83573   3.88056\n",
       "  0.0   0.0       0.0       0.957037"
      ]
     },
     "execution_count": 71,
     "metadata": {},
     "output_type": "execute_result"
    }
   ],
   "source": [
    "# Факторизация \n",
    "F = lu(A)   # или F = factorize(A)"
   ]
  },
  {
   "cell_type": "markdown",
   "metadata": {},
   "source": [
    "Результат F содержит: \n",
    "```\n",
    "F.L - матрица L\n",
    "F.U - матрица U\n",
    "F.P - матрица P перестановки\n",
    "F.p - вектор p перестановки\n",
    "```\n"
   ]
  },
  {
   "cell_type": "code",
   "execution_count": 72,
   "metadata": {},
   "outputs": [
    {
     "data": {
      "text/plain": [
       "4×4 Matrix{Float64}:\n",
       " 11.7   5.0      -4.5      -6.4\n",
       "  0.0  -7.19744   9.80769  -7.35128\n",
       "  0.0   0.0      -7.83573   3.88056\n",
       "  0.0   0.0       0.0       0.957037"
      ]
     },
     "execution_count": 72,
     "metadata": {},
     "output_type": "execute_result"
    }
   ],
   "source": [
    "F.U"
   ]
  },
  {
   "cell_type": "code",
   "execution_count": 73,
   "metadata": {},
   "outputs": [
    {
     "data": {
      "text/plain": [
       "LU{Float64, Matrix{Float64}}\n",
       "L factor:\n",
       "4×4 Matrix{Float64}:\n",
       "  1.0         0.0         0.0        0.0\n",
       "  0.179487    1.0         0.0        0.0\n",
       "  0.529915    0.256977    1.0        0.0\n",
       " -0.0683761  -0.0197126  -0.0875021  1.0\n",
       "U factor:\n",
       "4×4 Matrix{Float64}:\n",
       " 11.7   5.0      -4.5      -6.4\n",
       "  0.0  -7.19744   9.80769  -7.35128\n",
       "  0.0   0.0      -7.83573   3.88056\n",
       "  0.0   0.0       0.0       0.957037"
      ]
     },
     "execution_count": 73,
     "metadata": {},
     "output_type": "execute_result"
    }
   ],
   "source": [
    "# получить сразу распакованный результат\n",
    "L, U, p = lu(A)"
   ]
  },
  {
   "cell_type": "code",
   "execution_count": 74,
   "metadata": {},
   "outputs": [
    {
     "data": {
      "text/plain": [
       "4×4 Matrix{Float64}:\n",
       " 11.7   5.0      -4.5      -6.4\n",
       "  0.0  -7.19744   9.80769  -7.35128\n",
       "  0.0   0.0      -7.83573   3.88056\n",
       "  0.0   0.0       0.0       0.957037"
      ]
     },
     "execution_count": 74,
     "metadata": {},
     "output_type": "execute_result"
    }
   ],
   "source": [
    "U"
   ]
  },
  {
   "cell_type": "markdown",
   "metadata": {},
   "source": [
    "### 3.3 Разложение Холесского\n",
    "\n",
    "Симметричная положительно-определенная матрица раскладывается в произведение $A = UᵀU$\n",
    "* $U$ - верхняя треугольная матрица "
   ]
  },
  {
   "cell_type": "code",
   "execution_count": 75,
   "metadata": {},
   "outputs": [
    {
     "data": {
      "text/plain": [
       "true"
      ]
     },
     "execution_count": 75,
     "metadata": {},
     "output_type": "execute_result"
    }
   ],
   "source": [
    "# Симметричная положительно-определенная матрица\n",
    "A = [ 23.2  -8.2   6.3   7.8\n",
    "     -8.2   18.2   7.1   0.7\n",
    "      6.3   7.1  12.6  -5.9\n",
    "      7.8   0.7  -5.9   25.7\n",
    "    ]\n",
    "\n",
    "isposdef(A)"
   ]
  },
  {
   "cell_type": "code",
   "execution_count": 76,
   "metadata": {},
   "outputs": [
    {
     "data": {
      "text/plain": [
       "Cholesky{Float64, Matrix{Float64}}\n",
       "U factor:\n",
       "4×4 UpperTriangular{Float64, Matrix{Float64}}:\n",
       " 4.81664  -1.70243  1.30797   1.61939\n",
       "  ⋅        3.91174  2.38429   0.883723\n",
       "  ⋅         ⋅       2.28131  -4.4383\n",
       "  ⋅         ⋅        ⋅        1.61186"
      ]
     },
     "execution_count": 76,
     "metadata": {},
     "output_type": "execute_result"
    }
   ],
   "source": [
    "F = cholesky(A)   ## или F = factorize(A)"
   ]
  },
  {
   "cell_type": "code",
   "execution_count": 77,
   "metadata": {},
   "outputs": [
    {
     "data": {
      "text/plain": [
       "4×4 UpperTriangular{Float64, Matrix{Float64}}:\n",
       " 4.81664  -1.70243  1.30797   1.61939\n",
       "  ⋅        3.91174  2.38429   0.883723\n",
       "  ⋅         ⋅       2.28131  -4.4383\n",
       "  ⋅         ⋅        ⋅        1.61186"
      ]
     },
     "execution_count": 77,
     "metadata": {},
     "output_type": "execute_result"
    }
   ],
   "source": [
    "F.U"
   ]
  },
  {
   "cell_type": "markdown",
   "metadata": {},
   "source": [
    "### 3.4. Разложение Банча-Кауфмана (*LDLᵀ - разложение*)\n",
    "\n",
    "Симметричная матрица раскладывается в произведение $A = UDUᵀ$\n",
    "* $U$ - верхняя треугольная матрица \n",
    "* $D$ - блочно-диагональная матрица с блоками 1x1 или 2х2"
   ]
  },
  {
   "cell_type": "code",
   "execution_count": 78,
   "metadata": {},
   "outputs": [
    {
     "data": {
      "text/plain": [
       "true"
      ]
     },
     "execution_count": 78,
     "metadata": {},
     "output_type": "execute_result"
    }
   ],
   "source": [
    "# Симметричная матрица\n",
    "A = [ 3.2  -8.2   6.3   7.8\n",
    "     -8.2   18.2  7.1   0.7\n",
    "      6.3   7.1   2.6  -5.9\n",
    "      7.8   0.7  -5.9   5.7\n",
    "    ]\n",
    "issymmetric(A)"
   ]
  },
  {
   "cell_type": "code",
   "execution_count": 79,
   "metadata": {},
   "outputs": [
    {
     "data": {
      "text/plain": [
       "BunchKaufman{Float64, Matrix{Float64}}\n",
       "D factor:\n",
       "4×4 Tridiagonal{Float64, Vector{Float64}}:\n",
       " 25.3663   0.0        ⋅        ⋅ \n",
       "  0.0     -7.47368  14.3737    ⋅ \n",
       "   ⋅      14.3737   -3.50702  0.0\n",
       "   ⋅        ⋅        0.0      5.7\n",
       "U factor:\n",
       "4×4 UnitUpperTriangular{Float64, Matrix{Float64}}:\n",
       " 1.0  0.445423  -0.405529   0.122807\n",
       "  ⋅   1.0        0.0        1.36842\n",
       "  ⋅    ⋅         1.0       -1.03509\n",
       "  ⋅    ⋅          ⋅         1.0\n",
       "permutation:\n",
       "4-element Vector{Int64}:\n",
       " 2\n",
       " 1\n",
       " 3\n",
       " 4"
      ]
     },
     "execution_count": 79,
     "metadata": {},
     "output_type": "execute_result"
    }
   ],
   "source": [
    "F = bunchkaufman(A)      # или F = factorize(A)"
   ]
  },
  {
   "cell_type": "markdown",
   "metadata": {},
   "source": [
    "Для разложения $A = LDLᵀ$ \n",
    "* $L$ - верхняя треугольная матрица \n",
    "* $D$ - блочно-диагональная матрица\n",
    "\n",
    "используйте `Symmetric(A, :L)`"
   ]
  },
  {
   "cell_type": "code",
   "execution_count": 80,
   "metadata": {},
   "outputs": [
    {
     "data": {
      "text/plain": [
       "BunchKaufman{Float64, Matrix{Float64}}\n",
       "D factor:\n",
       "4×4 Tridiagonal{Float64, Vector{Float64}}:\n",
       " 18.2   0.0         ⋅         ⋅ \n",
       "  0.0  -0.494505   9.4989     ⋅ \n",
       "   ⋅    9.4989    -0.16978   0.0\n",
       "   ⋅     ⋅         0.0      15.8978\n",
       "L factor:\n",
       "4×4 UnitLowerTriangular{Float64, Matrix{Float64}}:\n",
       "  1.0          ⋅         ⋅         ⋅ \n",
       " -0.450549    1.0        ⋅         ⋅ \n",
       "  0.39011     0.0       1.0        ⋅ \n",
       "  0.0384615  -0.635193  0.821282  1.0\n",
       "permutation:\n",
       "4-element Vector{Int64}:\n",
       " 2\n",
       " 1\n",
       " 3\n",
       " 4"
      ]
     },
     "execution_count": 80,
     "metadata": {},
     "output_type": "execute_result"
    }
   ],
   "source": [
    "F = bunchkaufman(Symmetric(A, :L))"
   ]
  },
  {
   "cell_type": "markdown",
   "metadata": {},
   "source": [
    "### 3.5. *QR*- разложение\n",
    "\n",
    "Матрица раскладывается в произведение $A = QR$\n",
    "* $Q$ - ортогональная матрица \n",
    "* $R$ - верхняя треугольная матрица"
   ]
  },
  {
   "cell_type": "code",
   "execution_count": 81,
   "metadata": {},
   "outputs": [
    {
     "data": {
      "text/plain": [
       "3×4 Matrix{Int64}:\n",
       "  1  2  -4  6\n",
       " -3  5   2  1\n",
       "  9  5  -4  4"
      ]
     },
     "execution_count": 81,
     "metadata": {},
     "output_type": "execute_result"
    }
   ],
   "source": [
    "# Прямоугольная матрица\n",
    "A = [ 1  2 -4 6\n",
    "     -3  5  2 1\n",
    "      9  5 -4 4]"
   ]
  },
  {
   "cell_type": "code",
   "execution_count": 82,
   "metadata": {},
   "outputs": [
    {
     "data": {
      "text/plain": [
       "LinearAlgebra.QRCompactWY{Float64, Matrix{Float64}}\n",
       "Q factor:\n",
       "3×3 LinearAlgebra.QRCompactWYQ{Float64, Matrix{Float64}}:\n",
       " -0.104828  -0.252113  -0.962003\n",
       "  0.314485  -0.926096   0.208434\n",
       " -0.943456  -0.280686   0.176367\n",
       "R factor:\n",
       "3×4 Matrix{Float64}:\n",
       " -9.53939  -3.35451  4.82211   -4.08831\n",
       "  0.0      -6.53814  0.279005  -3.56152\n",
       "  0.0       0.0      3.55941   -4.85812"
      ]
     },
     "execution_count": 82,
     "metadata": {},
     "output_type": "execute_result"
    }
   ],
   "source": [
    "F = qr(A)"
   ]
  },
  {
   "cell_type": "code",
   "execution_count": 83,
   "metadata": {},
   "outputs": [
    {
     "data": {
      "text/plain": [
       "3×4 Matrix{Float64}:\n",
       " -9.53939  -3.35451  4.82211   -4.08831\n",
       "  0.0      -6.53814  0.279005  -3.56152\n",
       "  0.0       0.0      3.55941   -4.85812"
      ]
     },
     "execution_count": 83,
     "metadata": {},
     "output_type": "execute_result"
    }
   ],
   "source": [
    "F.R"
   ]
  },
  {
   "cell_type": "markdown",
   "metadata": {},
   "source": [
    "QR-разложения с выбором ведущего элемента "
   ]
  },
  {
   "cell_type": "code",
   "execution_count": 84,
   "metadata": {},
   "outputs": [
    {
     "data": {
      "text/plain": [
       "QRPivoted{Float64, Matrix{Float64}}\n",
       "Q factor:\n",
       "3×3 LinearAlgebra.QRPackedQ{Float64, Matrix{Float64}}:\n",
       " -0.104828  -0.252113  -0.962003\n",
       "  0.314485  -0.926096   0.208434\n",
       " -0.943456  -0.280686   0.176367\n",
       "R factor:\n",
       "3×4 Matrix{Float64}:\n",
       " -9.53939  -3.35451  -4.08831  4.82211\n",
       "  0.0      -6.53814  -3.56152  0.279005\n",
       "  0.0       0.0      -4.85812  3.55941\n",
       "permutation:\n",
       "4-element Vector{Int64}:\n",
       " 1\n",
       " 2\n",
       " 4\n",
       " 3"
      ]
     },
     "execution_count": 84,
     "metadata": {},
     "output_type": "execute_result"
    }
   ],
   "source": [
    "F = qr(A, ColumnNorm())        # или factorize(A) "
   ]
  },
  {
   "cell_type": "markdown",
   "metadata": {},
   "source": [
    "### 3.6 Другие факторизации\n",
    "```\n",
    "eigen(A) - спектральное разложение (на собственные числа и вектора)\n",
    "svd(A) - сингулярное разложение (на сигулярные числа и вектора)\n",
    "lq(A) - LQ-разложение (QR-разложение матрицы Aᵀ)\n",
    "schur(A) - разложение Шура\n",
    "hessenberg(A) - разложение Хессенберга\n",
    "```\n"
   ]
  },
  {
   "cell_type": "markdown",
   "metadata": {},
   "source": [
    "### 3.7 Вычислительная эффективность\n",
    "\n",
    "Алгоритмическая сложность различных методов факторизации различна. Поэтому время факторизации и, следовательно, время решения системы уравнений также различаюся в зависимости от свойств матрицы коэффициентов. Рассмотрим симметричную положительно-определенную матрицу $A$. К ней применимы все типы факторизации. Оптимальным по скорости исполнения должен быть алгоритм Холесского, предназначенный для матриц этого типа. Следующим по скорости - алгоритм Банча-Кауфмана. Затем алгоритм LU-разложения и, наконец, более затратный, но численно устойчивый алгоритм QR-разложения."
   ]
  },
  {
   "cell_type": "code",
   "execution_count": 85,
   "metadata": {},
   "outputs": [
    {
     "data": {
      "text/plain": [
       "(true, true)"
      ]
     },
     "execution_count": 85,
     "metadata": {},
     "output_type": "execute_result"
    }
   ],
   "source": [
    "B = randn(100,50)\n",
    "A = B'*B\n",
    "isposdef(A), issymmetric(A)"
   ]
  },
  {
   "cell_type": "markdown",
   "metadata": {},
   "source": [
    "Для точного замера времени используем пакет [BenchmarkTools](https://juliaci.github.io/BenchmarkTools.jl/stable/)"
   ]
  },
  {
   "cell_type": "code",
   "execution_count": 86,
   "metadata": {},
   "outputs": [],
   "source": [
    "using BenchmarkTools"
   ]
  },
  {
   "cell_type": "code",
   "execution_count": 87,
   "metadata": {},
   "outputs": [
    {
     "name": "stdout",
     "output_type": "stream",
     "text": [
      "  20.224 μs (5 allocations: 19.69 KiB)\n",
      "  23.499 μs (4 allocations: 20.12 KiB)\n",
      "  13.914 μs (5 allocations: 19.69 KiB)\n",
      "  47.298 μs (6 allocations: 45.27 KiB)\n",
      "  89.406 μs (5 allocations: 48.02 KiB)\n"
     ]
    }
   ],
   "source": [
    "F1 = @btime factorize(A)\n",
    "F2 = @btime lu(A)\n",
    "F3 = @btime cholesky(A)\n",
    "F4 = @btime bunchkaufman(A);\n",
    "F5 = @btime qr(A);"
   ]
  },
  {
   "cell_type": "code",
   "execution_count": 88,
   "metadata": {},
   "outputs": [
    {
     "data": {
      "text/plain": [
       "Cholesky{Float64, Matrix{Float64}}"
      ]
     },
     "execution_count": 88,
     "metadata": {},
     "output_type": "execute_result"
    }
   ],
   "source": [
    "typeof(F1)"
   ]
  },
  {
   "cell_type": "markdown",
   "metadata": {},
   "source": [
    "Функция `factorize()` верно определила тип матрицы и вызвала алгоритм разложения Холесского. Наблюдаются небольшие накладные расходы по сравнению с прямым вызовом `cholesky()`. Алгоритм Банча-Кауфмана оказался медленнее алгоритма LU-разложения, хотя его сложность совпадает с таковой алгоритма разложения Холесского. Причина - он меньше подходит для оптимальной реализации с использованием BLAS, чем другие алгоритмы.\n",
    "\n",
    "При передаче \"обернутой\" симметричной положительно-определенной матрицы `Symmetric(A)` функция `factorize()` будет вызывать алгоритм факторизации Банча-Кауфмана."
   ]
  },
  {
   "cell_type": "markdown",
   "metadata": {},
   "source": [
    "### 3.8 Численная устойчивость\n",
    "Рассмотрим систему уравнений\n",
    "\\begin{equation*}\n",
    "\\begin{vmatrix}\n",
    "1.0  & 1.0 \\\\\n",
    "\\frac{1}{2}10^{-7}  & 0.0 \\\\\n",
    "0.0 & \\frac{1}{5}10^{-7}\n",
    "\\end{vmatrix} \n",
    "\\times\n",
    "\\begin{vmatrix}\n",
    "    x_{1} \\\\ x_{2} \n",
    "\\end{vmatrix} =\n",
    "\\begin{vmatrix}\n",
    "    2.0 \\\\ \\frac{1}{2}10^{-7} \\\\ \\frac{1}{5}10^{-7}\n",
    "\\end{vmatrix}\n",
    "\\end{equation*}\n",
    "\n",
    "где искомое решение, очевидно, $x=[1,1]$"
   ]
  },
  {
   "cell_type": "code",
   "execution_count": 89,
   "metadata": {},
   "outputs": [],
   "source": [
    "A = [1       1 \n",
    "     0.5e-7  0  \n",
    "     0       0.2e-7]\n",
    "\n",
    "b = [2, 0.5e-7, 0.2e-7];"
   ]
  },
  {
   "cell_type": "markdown",
   "metadata": {},
   "source": [
    "Обычно переопределенная система решается методом наименьших квадратов путем ее преобразования к системе \n",
    "\n",
    "$$(A^TA)x = A^Tb$$\n",
    "\n",
    "имеющей симметричную положительно-определенную матрицу коэффициентов $B=A^TA$ и вектор правой части $g=A'b$."
   ]
  },
  {
   "cell_type": "code",
   "execution_count": 90,
   "metadata": {},
   "outputs": [
    {
     "data": {
      "text/plain": [
       "(true, true)"
      ]
     },
     "execution_count": 90,
     "metadata": {},
     "output_type": "execute_result"
    }
   ],
   "source": [
    "B = A'*A\n",
    "g = A'*b\n",
    "issymmetric(B), isposdef(B)"
   ]
  },
  {
   "cell_type": "markdown",
   "metadata": {},
   "source": [
    "Поскольку матрица B симметричная и положительно-определенная, для решения системы $Bx=g$ можно использовать любую факторизацию, наиболее быстрой из которых, как мы видели выше, является факторизация Холесского"
   ]
  },
  {
   "cell_type": "code",
   "execution_count": 91,
   "metadata": {},
   "outputs": [
    {
     "name": "stdout",
     "output_type": "stream",
     "text": [
      "x(lu)   =   [1.0769230769230749, 0.9230769230769252]\n",
      "x(chol) =   [1.1666666666666663, 0.8333333333333337]\n",
      "x(bk)   =   [1.076923076923077, 0.9230769230769229]\n",
      "x(qr)   =   [1.0931808758346002, 0.9068191241653999]\n"
     ]
    }
   ],
   "source": [
    "x1 = lu(B) \\ g\n",
    "x2 = cholesky(B) \\ g\n",
    "x3 = bunchkaufman(B) \\ g\n",
    "x4 = qr(B, ColumnNorm()) \\ g\n",
    "\n",
    "println(\"x(lu)   =   \", x1)\n",
    "println(\"x(chol) =   \", x2)\n",
    "println(\"x(bk)   =   \", x3)\n",
    "println(\"x(qr)   =   \", x4)"
   ]
  },
  {
   "cell_type": "markdown",
   "metadata": {},
   "source": [
    "Однако, результат далек от искомого. При этом, использование факторизации Холесского дает наименее точное решение. Норма вектора ошибки:"
   ]
  },
  {
   "cell_type": "code",
   "execution_count": 92,
   "metadata": {},
   "outputs": [
    {
     "name": "stdout",
     "output_type": "stream",
     "text": [
      "error(lu)   =   0.10878565864408125\n",
      "error(chol) =   0.2357022603955153\n",
      "error(bk)   =   0.10878565864408447\n",
      "error(qr)   =   0.13177765835909494\n"
     ]
    }
   ],
   "source": [
    "println(\"error(lu)   =   \", norm([1,1]-x1))\n",
    "println(\"error(chol) =   \", norm([1,1]-x2))\n",
    "println(\"error(bk)   =   \", norm([1,1]-x3))\n",
    "println(\"error(qr)   =   \", norm([1,1]-x4))"
   ]
  },
  {
   "cell_type": "markdown",
   "metadata": {},
   "source": [
    "Причина - в плохой обусловленности матрицы В:"
   ]
  },
  {
   "cell_type": "code",
   "execution_count": 93,
   "metadata": {},
   "outputs": [
    {
     "data": {
      "text/plain": [
       "1.3540143619463308e15"
      ]
     },
     "execution_count": 93,
     "metadata": {},
     "output_type": "execute_result"
    }
   ],
   "source": [
    "cond(B)"
   ]
  },
  {
   "cell_type": "markdown",
   "metadata": {},
   "source": [
    "В таких случаях для получения решения следует решать исходную систему с использованием QR-разложения"
   ]
  },
  {
   "cell_type": "code",
   "execution_count": 94,
   "metadata": {},
   "outputs": [
    {
     "name": "stdout",
     "output_type": "stream",
     "text": [
      "x     =   [0.9999999999999998, 1.0000000000000004]\n",
      "error =   4.965068306494546e-16\n"
     ]
    }
   ],
   "source": [
    "x = qr(A) \\ b             # или x = A \\ b\n",
    "\n",
    "println(\"x     =   \", x)\n",
    "println(\"error =   \", norm([1,1]-x))"
   ]
  },
  {
   "cell_type": "code",
   "execution_count": 95,
   "metadata": {},
   "outputs": [
    {
     "data": {
      "text/plain": [
       "3.71390676354104e7"
      ]
     },
     "execution_count": 95,
     "metadata": {},
     "output_type": "execute_result"
    }
   ],
   "source": [
    "cond(A)"
   ]
  },
  {
   "cell_type": "markdown",
   "metadata": {},
   "source": [
    "## 4. Пакеты для факторизации и решения линейных систем\n",
    "\n",
    "[LDLFactorization.jl](https://juliasmoothoptimizers.github.io/LDLFactorizations.jl/stable/tutorial/): LDLᵀ - факторизация симметричных матриц\n",
    "\n",
    "[QDLDL.jl](https://github.com/osqp/QDLDL.jl): LDLᵀ - факторизация симметричных квазиопределенных матриц\n",
    "\n",
    "[PositiveFactorizations.jl](https://github.com/timholy/PositiveFactorizations.jl): модифицированное разложение Холесского для симметричных знаконеопределенных матриц\n",
    "\n",
    "[MatrixFactorizations.jl](https://docs.juliahub.com/MatrixFactorizations/5wecE/0.8.3/autodocs/): нестандартные матричные факторизации\n",
    "\n",
    "[MUMPS.jl](https://juliasmoothoptimizers.github.io/MUMPS.jl/latest/): пакет для решения систем уравнений путем факторизации матриц различного вида\n",
    "\n",
    "[HSL.jl](https://juliasmoothoptimizers.github.io/HSL.jl/stable/): пакет для решения систем уравнений путем факторизации матриц различного вида\n",
    "\n"
   ]
  },
  {
   "cell_type": "code",
   "execution_count": null,
   "metadata": {},
   "outputs": [],
   "source": []
  }
 ],
 "metadata": {
  "@webio": {
   "lastCommId": null,
   "lastKernelId": null
  },
  "kernelspec": {
   "display_name": "Julia 1.7.2",
   "language": "julia",
   "name": "julia-1.7"
  },
  "language_info": {
   "file_extension": ".jl",
   "mimetype": "application/julia",
   "name": "julia",
   "version": "1.7.2"
  }
 },
 "nbformat": 4,
 "nbformat_minor": 2
}
